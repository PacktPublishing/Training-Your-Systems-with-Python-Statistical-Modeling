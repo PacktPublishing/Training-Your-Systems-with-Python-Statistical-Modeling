{
 "cells": [
  {
   "cell_type": "markdown",
   "metadata": {},
   "source": [
    "# Diving Into Clustering and Unsupervised Learning\n",
    "*Curtis Miller*\n",
    "\n",
    "In this notebook I give some functions for computing distances between points. This is to introduce the idea of different distance metrics, an important idea in data science and clustering.\n",
    "\n",
    "Many of these metrics are already supported in relevant packages, but you are welcome to look at functions defining them to understand how they work.\n",
    "\n",
    "## Euclidean Distance\n",
    "\n",
    "This is the \"straight line\" distance people are most familiar with."
   ]
  },
  {
   "cell_type": "code",
   "execution_count": null,
   "metadata": {
    "collapsed": true
   },
   "outputs": [],
   "source": [
    "import numpy as np"
   ]
  },
  {
   "cell_type": "code",
   "execution_count": null,
   "metadata": {
    "collapsed": true
   },
   "outputs": [],
   "source": [
    "def euclidean_distance(v1, v2):\n",
    "    \"\"\"Computes the Euclidean distance between two vectors\"\"\"\n",
    "    return np.sqrt(np.sum((v1 - v2) ** 2))"
   ]
  },
  {
   "cell_type": "code",
   "execution_count": null,
   "metadata": {},
   "outputs": [],
   "source": [
    "vec1 = np.array([1, 2, 3])\n",
    "vec2 = np.array([1, -1, 0])\n",
    "\n",
    "euclidean_distance(vec1, vec2)"
   ]
  },
  {
   "cell_type": "markdown",
   "metadata": {},
   "source": [
    "## Manhattan Distance\n",
    "\n",
    "Also commonly known as \"taxicab distance\" this is the distance between two points when \"diagonal\" movement is not allowed."
   ]
  },
  {
   "cell_type": "code",
   "execution_count": null,
   "metadata": {
    "collapsed": true
   },
   "outputs": [],
   "source": [
    "def manhattan_distance(v1, v2):\n",
    "    \"\"\"Computes the Manhattan distance between two vectors\"\"\"\n",
    "    return np.sum(np.abs(v1 - v2))"
   ]
  },
  {
   "cell_type": "code",
   "execution_count": null,
   "metadata": {},
   "outputs": [],
   "source": [
    "manhattan_distance(vec1, vec2)"
   ]
  },
  {
   "cell_type": "markdown",
   "metadata": {},
   "source": [
    "## Angular Distance\n",
    "\n",
    "This is the size of the angle between the two vectors."
   ]
  },
  {
   "cell_type": "code",
   "execution_count": null,
   "metadata": {
    "collapsed": true
   },
   "outputs": [],
   "source": [
    "from numpy.linalg import norm\n",
    "\n",
    "def angular_distance(v1, v2):\n",
    "    \"\"\"Computes the angular distance between two vectors\"\"\"\n",
    "    sim = v1.dot(v2)/(norm(v1) * norm(v2))\n",
    "    return np.arccos(sim)/np.pi"
   ]
  },
  {
   "cell_type": "code",
   "execution_count": null,
   "metadata": {},
   "outputs": [],
   "source": [
    "angular_distance(vec1, vec2)"
   ]
  },
  {
   "cell_type": "code",
   "execution_count": null,
   "metadata": {},
   "outputs": [],
   "source": [
    "angular_distance(vec1, vec1)    # Two identical vectors have an angular distance of 0"
   ]
  },
  {
   "cell_type": "code",
   "execution_count": null,
   "metadata": {},
   "outputs": [],
   "source": [
    "angular_distance(vec1, 2 * vec1)    # It's insensitive to magnitude (technically it's not a metric as defined by\n",
    "                                    # mathematicians because of this, except on a unit circle)"
   ]
  },
  {
   "cell_type": "markdown",
   "metadata": {},
   "source": [
    "## Hamming Distance\n",
    "\n",
    "Intended for strings (bitstring or otherwise), the Hamming distance between two strings is the number of symbols that need to change in one string to make it identical to the other. (The following code was shamelessly stolen from [Wikipedia](https://en.wikipedia.org/wiki/Hamming_distance).)"
   ]
  },
  {
   "cell_type": "code",
   "execution_count": null,
   "metadata": {
    "collapsed": true
   },
   "outputs": [],
   "source": [
    "def hamming_distance(s1, s2):\n",
    "    \"\"\"Return the Hamming distance between equal-length sequences\"\"\"\n",
    "    if len(s1) != len(s2):\n",
    "        raise ValueError(\"Undefined for sequences of unequal length\")\n",
    "    return sum(el1 != el2 for el1, el2 in zip(s1, s2))"
   ]
  },
  {
   "cell_type": "code",
   "execution_count": null,
   "metadata": {},
   "outputs": [],
   "source": [
    "hamming_distance(\"11101\", \"11011\")"
   ]
  },
  {
   "cell_type": "markdown",
   "metadata": {},
   "source": [
    "## Jaccard Distance\n",
    "\n",
    "The Jaccard distance, defined for two sets, is the number of elements that the two sets don't have in common divided by the total number of elements the two sets combined have (removing duplicates)."
   ]
  },
  {
   "cell_type": "code",
   "execution_count": null,
   "metadata": {
    "collapsed": true
   },
   "outputs": [],
   "source": [
    "def jaccard_distance(s1, s2):\n",
    "    \"\"\"Computes the Jaccard distance between two sets\"\"\"\n",
    "    s1, s2 = set(s1), set(s2)\n",
    "    diff = len(s1.union(s2)) - len(s1.intersection(s2))\n",
    "    return diff / len(s1.union(s2))"
   ]
  },
  {
   "cell_type": "code",
   "execution_count": null,
   "metadata": {},
   "outputs": [],
   "source": [
    "jaccard_distance([\"cow\", \"pig\", \"horse\"], [\"cow\", \"donkey\", \"chicken\"])"
   ]
  },
  {
   "cell_type": "code",
   "execution_count": null,
   "metadata": {},
   "outputs": [],
   "source": [
    "jaccard_distance(\"11101\", \"11011\")    # Sets formed from the contents of these strings are identical"
   ]
  },
  {
   "cell_type": "markdown",
   "metadata": {},
   "source": [
    "In a later video I will discuss similarity metrics, focusing on Jaccard similarity."
   ]
  }
 ],
 "metadata": {
  "kernelspec": {
   "display_name": "Python 3",
   "language": "python",
   "name": "python3"
  },
  "language_info": {
   "codemirror_mode": {
    "name": "ipython",
    "version": 3
   },
   "file_extension": ".py",
   "mimetype": "text/x-python",
   "name": "python",
   "nbconvert_exporter": "python",
   "pygments_lexer": "ipython3",
   "version": "3.6.2"
  }
 },
 "nbformat": 4,
 "nbformat_minor": 2
}
