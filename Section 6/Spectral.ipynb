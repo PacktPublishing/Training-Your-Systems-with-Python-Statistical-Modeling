{
 "cells": [
  {
   "cell_type": "markdown",
   "metadata": {},
   "source": [
    "# Spectral Clustering\n",
    "*Curtis Miller*\n",
    "\n",
    "Here I demonstrate clustering using spectral clustering.\n",
    "\n",
    "Both spectral and hierarchical clustering depend on computing how \"similar\" datapoints in a dataset are (using some measure of similarity). Both methods then try to group \"similar\" datapoints into common clusters.\n",
    "\n",
    "Spectral clustering uses the similarity matrix formed from the datapoints' similarity measures and the eigenvalues of said matrix to form clusters. If a random walker were jumping from datapoint to datapoint based on how \"similar\" those datapoints were, the clusters represent collections of datapoints the random walker spends considerable time in.\n",
    "\n",
    "## Clustering the Iris Dataset\n",
    "\n",
    "I will demonstrate using spectral clustering for the iris dataset. I first load in that dataset."
   ]
  },
  {
   "cell_type": "code",
   "execution_count": null,
   "metadata": {
    "collapsed": true
   },
   "outputs": [],
   "source": [
    "from sklearn.datasets import load_iris\n",
    "import matplotlib.pyplot as plt\n",
    "%matplotlib inline"
   ]
  },
  {
   "cell_type": "code",
   "execution_count": null,
   "metadata": {},
   "outputs": [],
   "source": [
    "iris_obj = load_iris()\n",
    "iris_data = iris_obj.data\n",
    "species = iris_obj.target\n",
    "iris_data[:5,:]"
   ]
  },
  {
   "cell_type": "code",
   "execution_count": null,
   "metadata": {},
   "outputs": [],
   "source": [
    "plt.scatter(iris_data[:, 0], iris_data[:, 1], c=species, cmap=plt.cm.brg)\n",
    "plt.xlabel(\"Sepal Length\")\n",
    "plt.ylabel(\"Sepal Width\")\n",
    "plt.show()"
   ]
  },
  {
   "cell_type": "markdown",
   "metadata": {},
   "source": [
    "Next I import the `SpectralClustering` object to perform spectral clustering, and then apply the method."
   ]
  },
  {
   "cell_type": "code",
   "execution_count": null,
   "metadata": {
    "collapsed": true
   },
   "outputs": [],
   "source": [
    "from sklearn.cluster import SpectralClustering"
   ]
  },
  {
   "cell_type": "code",
   "execution_count": null,
   "metadata": {},
   "outputs": [],
   "source": [
    "irisclust = SpectralClustering(n_clusters=3,   # Three clusters\n",
    "                               affinity=\"rbf\")    # \"Closeness\" is defined using Gaussian kernel\n",
    "irisclust = irisclust.fit(iris_data)\n",
    "\n",
    "# Visualizing the clustering\n",
    "plt.scatter(iris_data[:, 0], iris_data[:, 1], c=irisclust.labels_, cmap=plt.cm.brg)\n",
    "plt.xlabel(\"Sepal Length\")\n",
    "plt.ylabel(\"Sepal Width\")\n",
    "plt.show()"
   ]
  },
  {
   "cell_type": "markdown",
   "metadata": {},
   "source": [
    "Choosing different affinity schemes yields different results. Like with hierarchical clustering, spectral clustering produces nice results but does not allow for \"prediction\". That is, it doesn't take new , never-before-seen datapoints and assign them to a cluster.\n",
    "\n",
    "## Clustering Headlines\n",
    "\n",
    "Let's cluster the headlines dataset, as we did before with hierarchical clustering. While hierarchical clustering requires a distance matrix, spectral clustering requires a similarity matrix.\n",
    "\n",
    "The code below was explained in a previous video."
   ]
  },
  {
   "cell_type": "code",
   "execution_count": null,
   "metadata": {
    "collapsed": true
   },
   "outputs": [],
   "source": [
    "import pandas as pd\n",
    "from nltk import ngrams\n",
    "import numpy as np"
   ]
  },
  {
   "cell_type": "code",
   "execution_count": null,
   "metadata": {},
   "outputs": [],
   "source": [
    "headlines = pd.read_csv(\"HNHeadlines.txt\", header=None, index_col=0).iloc[:, 0]\n",
    "headline_sets = [set(''.join(u) for u in ngrams(h.lower(), 3)) for h in headlines]\n",
    "sims = np.zeros((len(headlines), len(headlines)))    # Will contain the affinity matrix\n",
    "for i in range(len(headlines)):\n",
    "    for j in range(i, len(headlines)):\n",
    "        h1, h2 = headline_sets[i], headline_sets[j]\n",
    "        js = len(h1.intersection(h2))/len(h1.union(h2))    # Compute the Jaccard similarity for the two documents\n",
    "        sims[i,j] = sims[j,i] = js    # Store the Jaccard similarity in the appropriate entries of the matrix\n",
    "\n",
    "headlines"
   ]
  },
  {
   "cell_type": "markdown",
   "metadata": {},
   "source": [
    "I also plan to assess the quality of the resulting clustering using a silhouette plot."
   ]
  },
  {
   "cell_type": "code",
   "execution_count": null,
   "metadata": {
    "collapsed": true
   },
   "outputs": [],
   "source": [
    "import matplotlib.cm as cm\n",
    "import matplotlib.pyplot as plt\n",
    "from sklearn.metrics import silhouette_score, silhouette_samples\n",
    "%matplotlib inline\n",
    "\n",
    "def silhouette_plot(data, labels, metric=\"euclidean\", xticks = True):\n",
    "    \"\"\"Creates a silhouette plot given a dataset and the labels corresponding to cluster assignment, and reports the\n",
    "       average silhouette score\"\"\"\n",
    "    silhouette_avg = silhouette_score(data, labels,\n",
    "                                      metric=metric)    # The average silhouette score over the entire sample\n",
    "    sample_silhouette_values = silhouette_samples(data, labels,\n",
    "                                                  metric=metric)    # The silhouette score of each individual data point\n",
    "    \n",
    "    # This loop creates the silhouettes in the silhouette plot\n",
    "    y_lower = 10    # For space between silhouettes\n",
    "    for k in np.unique(labels):\n",
    "        cluster_values = sample_silhouette_values[labels == k]\n",
    "        cluster_values.sort()\n",
    "        nk = len(cluster_values)\n",
    "        y_upper = y_lower + nk\n",
    "        color = cm.spectral(float(k) / len(np.unique(labels)))\n",
    "        plt.fill_betweenx(np.arange(y_lower, y_upper),\n",
    "                          0, cluster_values,\n",
    "                          facecolor=color, edgecolor=color)\n",
    "        plt.text(-0.05, y_lower + 0.5 * nk, str(k))\n",
    "        y_lower = y_upper + 10\n",
    "    \n",
    "    plt.axvline(x=silhouette_avg, color=\"red\", linestyle=\"--\")\n",
    "    if xticks:\n",
    "        plt.xticks([-0.1, 0, 0.1, 0.2, 0.3, 0.4, 0.5, 0.6, 0.7, 0.8, 0.9, 1.0])\n",
    "    plt.yticks([])\n",
    "    plt.xlabel(\"Silhouette Score\")\n",
    "    plt.ylabel(\"Cluster\")\n",
    "    plt.show()\n",
    "    \n",
    "    print(\"The average silhouette score is\", silhouette_avg)"
   ]
  },
  {
   "cell_type": "markdown",
   "metadata": {},
   "source": [
    "Now we can perform the clustering."
   ]
  },
  {
   "cell_type": "code",
   "execution_count": null,
   "metadata": {},
   "outputs": [],
   "source": [
    "headlineclust = SpectralClustering(n_clusters=4, affinity=\"precomputed\")\n",
    "hclusters = headlineclust.fit_predict(sims)\n",
    "hclusters"
   ]
  },
  {
   "cell_type": "markdown",
   "metadata": {},
   "source": [
    "How well did the algorithm do?"
   ]
  },
  {
   "cell_type": "code",
   "execution_count": null,
   "metadata": {},
   "outputs": [],
   "source": [
    "silhouette_plot(1 - sims, hclusters, metric=\"precomputed\", xticks=False)"
   ]
  },
  {
   "cell_type": "code",
   "execution_count": null,
   "metadata": {},
   "outputs": [],
   "source": [
    "headlines[hclusters==3]"
   ]
  },
  {
   "cell_type": "code",
   "execution_count": null,
   "metadata": {},
   "outputs": [],
   "source": [
    "headlines[hclusters==2]"
   ]
  },
  {
   "cell_type": "markdown",
   "metadata": {},
   "source": [
    "The clustering is not necessarily bad; at least one cluster seems reasonable. That said, it's not great either, according to the silhouette plot."
   ]
  }
 ],
 "metadata": {
  "kernelspec": {
   "display_name": "Python 3",
   "language": "python",
   "name": "python3"
  },
  "language_info": {
   "codemirror_mode": {
    "name": "ipython",
    "version": 3
   },
   "file_extension": ".py",
   "mimetype": "text/x-python",
   "name": "python",
   "nbconvert_exporter": "python",
   "pygments_lexer": "ipython3",
   "version": "3.6.2"
  }
 },
 "nbformat": 4,
 "nbformat_minor": 2
}
