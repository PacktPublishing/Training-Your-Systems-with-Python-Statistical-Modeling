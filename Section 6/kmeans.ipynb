{
 "cells": [
  {
   "cell_type": "markdown",
   "metadata": {},
   "source": [
    "# $k$-Means Clustering\n",
    "*Curtis Miller*\n",
    "\n",
    "Here I demonstrate clustering using the $k$-means algorithm.\n",
    "\n",
    "## Clustering the Iris Dataset\n",
    "\n",
    "The first example will demonstrate using $k$-means clustering for the iris dataset. I first load in that dataset."
   ]
  },
  {
   "cell_type": "code",
   "execution_count": null,
   "metadata": {
    "collapsed": true
   },
   "outputs": [],
   "source": [
    "from sklearn.datasets import load_iris\n",
    "import matplotlib.pyplot as plt\n",
    "%matplotlib inline"
   ]
  },
  {
   "cell_type": "code",
   "execution_count": null,
   "metadata": {},
   "outputs": [],
   "source": [
    "iris_obj = load_iris()\n",
    "iris_data = iris_obj.data\n",
    "species = iris_obj.target\n",
    "iris_data[:5,:]"
   ]
  },
  {
   "cell_type": "code",
   "execution_count": null,
   "metadata": {},
   "outputs": [],
   "source": [
    "plt.scatter(iris_data[:, 0], iris_data[:, 1], c=species, cmap=plt.cm.brg)\n",
    "plt.xlabel(\"Sepal Length\")\n",
    "plt.ylabel(\"Sepal Width\")\n",
    "plt.show()"
   ]
  },
  {
   "cell_type": "markdown",
   "metadata": {},
   "source": [
    "Next I import the `KMeans` object to perform $k$-means clustering, and then apply the method."
   ]
  },
  {
   "cell_type": "code",
   "execution_count": null,
   "metadata": {
    "collapsed": true
   },
   "outputs": [],
   "source": [
    "from sklearn.cluster import KMeans"
   ]
  },
  {
   "cell_type": "code",
   "execution_count": null,
   "metadata": {},
   "outputs": [],
   "source": [
    "irisclust = KMeans(n_clusters=3, init='random')    # Three clusters with cluster centers chosen as random dataset points\n",
    "irisclust.fit(iris_data)\n",
    "irisclust.cluster_centers_    # The coordinates of cluster centers"
   ]
  },
  {
   "cell_type": "code",
   "execution_count": null,
   "metadata": {},
   "outputs": [],
   "source": [
    "# Visualizing the clustering\n",
    "plt.scatter(iris_data[:, 0], iris_data[:, 1], c=irisclust.predict(iris_data), cmap=plt.cm.brg)\n",
    "plt.scatter(irisclust.cluster_centers_[:, 0], irisclust.cluster_centers_[:, 1],\n",
    "            c=irisclust.predict(irisclust.cluster_centers_), cmap=plt.cm.brg, marker='^', s=200,\n",
    "            edgecolors='k')\n",
    "plt.xlabel(\"Sepal Length\")\n",
    "plt.ylabel(\"Sepal Width\")\n",
    "plt.show()"
   ]
  },
  {
   "cell_type": "markdown",
   "metadata": {},
   "source": [
    "## Image Compression with $k$-Means\n",
    "\n",
    "$k$-means can also be used for image compression. An image is first clustered using the $k$-means algorithm, each pixel being assigned to a cluster (often pixels are represented using RGB values). The number of clusters is the number of unique colors that need to be stored. Additionally, we would need to store the dimensions of the image and which color each pixel of the image is.\n",
    "\n",
    "I demonstrate this approach with an image of a poison dart frog, which we will compress with $k$-means into ten unique colors."
   ]
  },
  {
   "cell_type": "code",
   "execution_count": null,
   "metadata": {
    "collapsed": true
   },
   "outputs": [],
   "source": [
    "from sklearn.datasets import load_sample_image\n",
    "from PIL import Image\n",
    "import numpy as np"
   ]
  },
  {
   "cell_type": "code",
   "execution_count": null,
   "metadata": {
    "collapsed": true
   },
   "outputs": [],
   "source": [
    "frog = np.array(Image.open(\"frog.png\").convert(\"RGB\")) / 255    # The last division to force numbers to be in [0,1]"
   ]
  },
  {
   "cell_type": "code",
   "execution_count": null,
   "metadata": {},
   "outputs": [],
   "source": [
    "frog.shape"
   ]
  },
  {
   "cell_type": "code",
   "execution_count": null,
   "metadata": {},
   "outputs": [],
   "source": [
    "frog[:5, :5, 0]"
   ]
  },
  {
   "cell_type": "code",
   "execution_count": null,
   "metadata": {},
   "outputs": [],
   "source": [
    "frog[:5, :5, 1]"
   ]
  },
  {
   "cell_type": "code",
   "execution_count": null,
   "metadata": {},
   "outputs": [],
   "source": [
    "frog[:5, :5, 2]"
   ]
  },
  {
   "cell_type": "code",
   "execution_count": null,
   "metadata": {},
   "outputs": [],
   "source": [
    "plt.imshow(frog)"
   ]
  },
  {
   "cell_type": "code",
   "execution_count": null,
   "metadata": {
    "collapsed": true
   },
   "outputs": [],
   "source": [
    "def kmeans_compression(img, n_clusters):\n",
    "    \"\"\"Recolors an image when colors are clustered using the k-means algorithm\"\"\"\n",
    "    h, w, d = img.shape\n",
    "    assert d == 3\n",
    "    img_data = img.reshape(h * w, d)    # The new array should have a row per pixel\n",
    "    img_clust = KMeans(n_clusters=n_clusters, init='random').fit(img_data)    # The actual k-means clustering step\n",
    "    centroids = img_clust.cluster_centers_    # The RGB (normalized) values for the new pixels\n",
    "    clust_pixels = img_clust.predict(img_data)    # Which pixel gets which new value\n",
    "    new_img_data = centroids[clust_pixels]\n",
    "    return new_img_data.reshape(h, w, d)"
   ]
  },
  {
   "cell_type": "code",
   "execution_count": null,
   "metadata": {
    "collapsed": true
   },
   "outputs": [],
   "source": [
    "newfrog = kmeans_compression(frog, 10)"
   ]
  },
  {
   "cell_type": "code",
   "execution_count": null,
   "metadata": {},
   "outputs": [],
   "source": [
    "plt.imshow(newfrog)"
   ]
  },
  {
   "cell_type": "markdown",
   "metadata": {},
   "source": [
    "While the original image would need more memory to store each pixel's unique color, the latter has less information and thus would need less memory to store, although the quality of the image is not the same."
   ]
  }
 ],
 "metadata": {
  "kernelspec": {
   "display_name": "Python 3",
   "language": "python",
   "name": "python3"
  },
  "language_info": {
   "codemirror_mode": {
    "name": "ipython",
    "version": 3
   },
   "file_extension": ".py",
   "mimetype": "text/x-python",
   "name": "python",
   "nbconvert_exporter": "python",
   "pygments_lexer": "ipython3",
   "version": "3.6.2"
  }
 },
 "nbformat": 4,
 "nbformat_minor": 2
}
