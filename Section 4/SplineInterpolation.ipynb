{
 "cells": [
  {
   "cell_type": "markdown",
   "metadata": {},
   "source": [
    "# Spline Interpolation Using SciPy\n",
    "*Curtis Miller*\n",
    "\n",
    "**Interpolation** refers to the process of estimating a function from finite data. Linear models can be seen as a form of interpolation. Here, by **spline interpolation** I refer to connecting the finite points of a function with piecewise polynomials. Spline interpolation does not assume there is \"noise\" in the data (which linear regression as seen previously allows); each data point is presumed to be the exact, noiseless value of the function.\n",
    "\n",
    "## 1D Interpolation\n",
    "\n",
    "For 1D interpolation, we try to infer a function $f(x)$ with a single input $x$ that produces a single output $y$, so $y = f(x)$. We have data points $x_1, ..., x_N$ and $y_1, ..., y_N$, and assume that $y_i = f(x_i)$. Our objective is to estimate the value of $f$ at values other than the points $x_i$, though the function should exactly equal $y_i$ at $x_i$.\n",
    "\n",
    "`interp1d()` from SciPy allows for interpolation in various forms. I demonstrate the function below."
   ]
  },
  {
   "cell_type": "code",
   "execution_count": null,
   "metadata": {
    "collapsed": true
   },
   "outputs": [],
   "source": [
    "from scipy.interpolate import interp1d\n",
    "import numpy as np\n",
    "import matplotlib\n",
    "import matplotlib.pyplot as plt\n",
    "%matplotlib inline"
   ]
  },
  {
   "cell_type": "code",
   "execution_count": null,
   "metadata": {},
   "outputs": [],
   "source": [
    "dat = np.load(\"mystery_function_2.npy\")    # Loading in the mystery function\n",
    "x, y = dat[:, 0], dat[:, 1]\n",
    "# Visualize the mystery function\n",
    "plt.scatter(x, y)\n",
    "plt.show()"
   ]
  },
  {
   "cell_type": "code",
   "execution_count": null,
   "metadata": {},
   "outputs": [],
   "source": [
    "xi = np.linspace(x.min(), x.max(), num=1000)\n",
    "fit1 = interp1d(x, y, kind='nearest')    # Interpolation by using the value closes to a new point x\n",
    "\n",
    "plt.plot(xi, fit1(xi), '-')\n",
    "plt.scatter(x, y)\n",
    "plt.show()"
   ]
  },
  {
   "cell_type": "code",
   "execution_count": null,
   "metadata": {},
   "outputs": [],
   "source": [
    "fit2 = interp1d(x, y, kind='linear')    # Interpolation by using straight lines\n",
    "\n",
    "plt.plot(xi, fit2(xi), '-')\n",
    "plt.scatter(x, y)\n",
    "plt.show()"
   ]
  },
  {
   "cell_type": "code",
   "execution_count": null,
   "metadata": {},
   "outputs": [],
   "source": [
    "fit3 = interp1d(x, y, kind='quadratic')    # Interpolation by using quadratic curves\n",
    "\n",
    "plt.plot(xi, fit3(xi), '-')\n",
    "plt.scatter(x, y)\n",
    "plt.show()"
   ]
  },
  {
   "cell_type": "code",
   "execution_count": null,
   "metadata": {},
   "outputs": [],
   "source": [
    "fit3 = interp1d(x, y, kind='cubic')    # Interpolation using cubic curves\n",
    "\n",
    "plt.plot(xi, fit3(xi), '-')\n",
    "plt.scatter(x, y)\n",
    "plt.show()"
   ]
  },
  {
   "cell_type": "markdown",
   "metadata": {},
   "source": [
    "## 2D Interpolation\n",
    "\n",
    "We can interpolate functions of the form $y = f(\\pmb{x})$, where $\\pmb{x}$ is a vector. $\\pmb{x}$ could represent a point in two-dimensional space. We would call this 2D interpolation.\n",
    "\n",
    "2D interpolation can be used for resizing images. Assume that we are working with grayscale images. A pixel's intensity would be its $y$-value, and its location on the grid its $\\pmb{x} = \\begin{pmatrix}\\xi_1 \\\\ \\xi_2 \\end{pmatrix}$ value. (Instead of using direct pixel locations we may normalize coordinates so that they are all numbers between 0 and 1, so that $(0,0)^T$ represents the top-left corner and $(1,1)^T$ the bottom-right corner of the image.) Rescaling requires determining the intensity of pixels not in the original grid; this calls for interpolation.\n",
    "\n",
    "`griddata()` can be used for this type of interpolation. The following code demonstrates how to enlarge an image of the U.S. capitol building using different interpolation schemes."
   ]
  },
  {
   "cell_type": "code",
   "execution_count": null,
   "metadata": {},
   "outputs": [],
   "source": [
    "from scipy.interpolate import griddata\n",
    "from PIL import Image\n",
    "matplotlib.rcParams['figure.figsize'] = (20, 12)"
   ]
  },
  {
   "cell_type": "code",
   "execution_count": null,
   "metadata": {},
   "outputs": [],
   "source": [
    "capitol_png = Image.open(\"USCapitol.png\").convert('L')    # Load in the image in grayscale\n",
    "capitol = np.array(capitol_png)    # Save to a NumPy array, with intensity stored in the array and coordinates of the\n",
    "                                   # array's entries serving as the pixels' coordinates\n",
    "capitol.shape"
   ]
  },
  {
   "cell_type": "code",
   "execution_count": null,
   "metadata": {},
   "outputs": [],
   "source": [
    "capitol[:5, :5]"
   ]
  },
  {
   "cell_type": "code",
   "execution_count": null,
   "metadata": {},
   "outputs": [],
   "source": [
    "plt.imshow(capitol, cmap=\"gray\")    # A grayscale display of the image; see the aliasing?"
   ]
  },
  {
   "cell_type": "code",
   "execution_count": null,
   "metadata": {},
   "outputs": [],
   "source": [
    "plt.imshow(capitol)    # Different color mappings may be more informative"
   ]
  },
  {
   "cell_type": "code",
   "execution_count": null,
   "metadata": {},
   "outputs": [],
   "source": [
    "plt.imshow(capitol, cmap=\"hot\")    # Aliasing is even more obvious"
   ]
  },
  {
   "cell_type": "code",
   "execution_count": null,
   "metadata": {},
   "outputs": [],
   "source": [
    "def griddata_point_format(arr, normalize=True):\n",
    "    \"\"\"Converts grayscale image stored in ndarray arr into a format acceptable for griddata, returning a dict\n",
    "       If normalize is True, coordinates are on a 0-1 scale\"\"\"\n",
    "    \n",
    "    shape = arr.shape\n",
    "    x = np.arange(shape[0])\n",
    "    y = np.arange(shape[1])\n",
    "    coord_mat = np.transpose([np.tile(x, shape[1]), np.repeat(y, shape[0])])    # Construct a matrix of coordinates\n",
    "    values = arr[coord_mat[:, 0], coord_mat[:, 1]]    # Construct a 1D array containing the intensity values of the image\n",
    "                                                      # at the given coordinates\n",
    "    if normalize:\n",
    "        # All coordinates will be between 0 and 1\n",
    "        coord_mat = np.array(coord_mat, dtype=np.float64)\n",
    "        coord_mat[:, 0] = coord_mat[:, 0] / shape[0]    # Note that 1 is not actually attained; that's fine\n",
    "        coord_mat[:, 1] = coord_mat[:, 1] / shape[1]\n",
    "        \n",
    "    return {\"points\": coord_mat, \"values\": values}\n",
    "\n",
    "def interp_points(length, width, normalize=True):\n",
    "    \"\"\"Gets two NumPy arrays corresponding to the points where interpolation should occur\"\"\"\n",
    "    \n",
    "    grid_x, grid_y = np.mgrid[0:length, 0:width]\n",
    "    if normalize:\n",
    "        # This option should be used if normalize is True in griddata_point_format\n",
    "        # All points will be between 0 and 1\n",
    "        grid_x = np.array(grid_x, dtype=np.float64)\n",
    "        grid_y = np.array(grid_y, dtype=np.float64)\n",
    "        grid_x = grid_x / length\n",
    "        grid_y = grid_y / width\n",
    "    \n",
    "    return (grid_x, grid_y)\n",
    "\n",
    "test = griddata_point_format(capitol)\n",
    "test[\"values\"][:5]    # intensities of the first five pixels (bright)"
   ]
  },
  {
   "cell_type": "code",
   "execution_count": null,
   "metadata": {},
   "outputs": [],
   "source": [
    "test[\"values\"][-5:]    # Intensities for last five (dark)"
   ]
  },
  {
   "cell_type": "code",
   "execution_count": null,
   "metadata": {},
   "outputs": [],
   "source": [
    "test[\"points\"][:5, :]    # Location of the first five pixels after normalization (top-left)"
   ]
  },
  {
   "cell_type": "code",
   "execution_count": null,
   "metadata": {},
   "outputs": [],
   "source": [
    "test[\"points\"][-5:, :]    # Location of the last five pixels (bottom-right)"
   ]
  },
  {
   "cell_type": "code",
   "execution_count": null,
   "metadata": {},
   "outputs": [],
   "source": [
    "im0 = griddata(xi = interp_points(400, 400), **griddata_point_format(capitol))    # Resize to a 400x400 image\n",
    "\n",
    "plt.imshow(im0)"
   ]
  },
  {
   "cell_type": "code",
   "execution_count": null,
   "metadata": {},
   "outputs": [],
   "source": [
    "im1 = griddata(xi = interp_points(800, 4 * 279), method=\"nearest\", **griddata_point_format(capitol))    # Quadruple size\n",
    "plt.imshow(im1, cmap=\"hot\")    # Obvious artifacts due to \"nearest\" method"
   ]
  },
  {
   "cell_type": "code",
   "execution_count": null,
   "metadata": {},
   "outputs": [],
   "source": [
    "im1 = griddata(xi = interp_points(800, 4 * 279), method=\"linear\", **griddata_point_format(capitol))\n",
    "plt.imshow(im1, cmap=\"hot\")   # Smoother image"
   ]
  },
  {
   "cell_type": "code",
   "execution_count": null,
   "metadata": {},
   "outputs": [],
   "source": [
    "im1 = griddata(xi = interp_points(800, 4 * 279), method=\"cubic\", **griddata_point_format(capitol))\n",
    "plt.imshow(im1, cmap=\"hot\")    # Arguably the best resizing"
   ]
  },
  {
   "cell_type": "markdown",
   "metadata": {},
   "source": [
    "Working with color images is similar to working with grayscale images; we view them as three \"grayscale\" images in one (but intensity is for the colors red, green, and blue each)."
   ]
  }
 ],
 "metadata": {
  "kernelspec": {
   "display_name": "Python 3",
   "language": "python",
   "name": "python3"
  },
  "language_info": {
   "codemirror_mode": {
    "name": "ipython",
    "version": 3
   },
   "file_extension": ".py",
   "mimetype": "text/x-python",
   "name": "python",
   "nbconvert_exporter": "python",
   "pygments_lexer": "ipython3",
   "version": "3.6.2"
  }
 },
 "nbformat": 4,
 "nbformat_minor": 2
}
