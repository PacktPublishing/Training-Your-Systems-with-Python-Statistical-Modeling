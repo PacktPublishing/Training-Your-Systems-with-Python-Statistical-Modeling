{
 "cells": [
  {
   "cell_type": "markdown",
   "metadata": {},
   "source": [
    "# Classifying Data in Python using the $k$-Nearest Neighbors (KNN) Algorithm\n",
    "*Curtis Miller*\n",
    "\n",
    "In this notebook I will demonstrate training and using **$k$-nearest neighbors (KNN)** algorithms with **sklearn**.\n",
    "\n",
    "We will be using the iris dataset, which I load below."
   ]
  },
  {
   "cell_type": "code",
   "execution_count": null,
   "metadata": {},
   "outputs": [],
   "source": [
    "from sklearn.datasets import load_iris\n",
    "from sklearn.model_selection import train_test_split, cross_validate\n",
    "from sklearn.metrics import classification_report"
   ]
  },
  {
   "cell_type": "code",
   "execution_count": null,
   "metadata": {
    "collapsed": true
   },
   "outputs": [],
   "source": [
    "iris_obj = load_iris()\n",
    "\n",
    "flower, species = iris_obj.data, iris_obj.target"
   ]
  },
  {
   "cell_type": "code",
   "execution_count": null,
   "metadata": {},
   "outputs": [],
   "source": [
    "flower_train, flower_test, species_train, species_test = train_test_split(flower, species, test_size = 0.1)\n",
    "flower_train[:5]"
   ]
  },
  {
   "cell_type": "code",
   "execution_count": null,
   "metadata": {},
   "outputs": [],
   "source": [
    "species_train[:5]"
   ]
  },
  {
   "cell_type": "markdown",
   "metadata": {},
   "source": [
    "## Creating a Classifier\n",
    "\n",
    "The `KNeighborsClassifier` allows for fitting and predicting using the KNN algorithm. Recall that with KNN, training a model means saving the training data, and predicting is done by picking the most common algorithm the $k$ nearest neighbors of a point.\n",
    "\n",
    "Besides choice of variables, there are two hyperparameters that need to be picked to use KNN: the number of neighbors $k$ used for prediction and the choice of metric for defining distance. Here I will use Euclidean distance, and I start by picking $k = 1$."
   ]
  },
  {
   "cell_type": "code",
   "execution_count": null,
   "metadata": {
    "collapsed": true
   },
   "outputs": [],
   "source": [
    "from sklearn.neighbors import KNeighborsClassifier\n",
    "import numpy as np"
   ]
  },
  {
   "cell_type": "code",
   "execution_count": null,
   "metadata": {},
   "outputs": [],
   "source": [
    "knn1 = KNeighborsClassifier(n_neighbors=1)    # Setting the k parameter\n",
    "knn1.fit(flower_train, species_train)    # Fitting the model\n",
    "knn1.predict(np.array([[7, 3, 5, 2]]))    # A test prediction"
   ]
  },
  {
   "cell_type": "code",
   "execution_count": null,
   "metadata": {},
   "outputs": [],
   "source": [
    "pred1 = knn1.predict(flower_train)\n",
    "pred1"
   ]
  },
  {
   "cell_type": "code",
   "execution_count": null,
   "metadata": {},
   "outputs": [],
   "source": [
    "print(classification_report(species_train, pred1))"
   ]
  },
  {
   "cell_type": "markdown",
   "metadata": {},
   "source": [
    "*Of course* the model does perfectly on the training data! (How can it not?)"
   ]
  },
  {
   "cell_type": "markdown",
   "metadata": {},
   "source": [
    "## Choosing $k$\n",
    "\n",
    "Let's perform cross-validation to see what $k$ seems to lead to the best predictive accuracy, along with getting a sense of what level of accuracy in prediction we can hope to see."
   ]
  },
  {
   "cell_type": "code",
   "execution_count": null,
   "metadata": {
    "collapsed": true
   },
   "outputs": [],
   "source": [
    "import pandas as pd\n",
    "from pandas import DataFrame"
   ]
  },
  {
   "cell_type": "code",
   "execution_count": null,
   "metadata": {},
   "outputs": [],
   "source": [
    "k_candidate = [1, 2, 3, 4, 5, 6, 7, 8, 9, 10]\n",
    "res = dict()\n",
    "\n",
    "for k in k_candidate:\n",
    "    pred2 = KNeighborsClassifier(n_neighbors=k)\n",
    "    res[k] = cross_validate(estimator=pred2,    # The predictor\n",
    "                            X=flower_train,     # Features array\n",
    "                            y=species_train,    # Target array\n",
    "                            cv=10,              # Number of folds (but other meanings exist)\n",
    "                            return_train_score=False,    # Don't return training scores\n",
    "                            scoring='accuracy') # What scores to return (other meanings exist)"
   ]
  },
  {
   "cell_type": "code",
   "execution_count": null,
   "metadata": {},
   "outputs": [],
   "source": [
    "resdf = DataFrame({(i, j): res[i][j]\n",
    "                             for i in res.keys()\n",
    "                             for j in res[i].keys()}).T\n",
    "resdf"
   ]
  },
  {
   "cell_type": "code",
   "execution_count": null,
   "metadata": {},
   "outputs": [],
   "source": [
    "resdf.loc[(slice(None), 'test_score'), :]"
   ]
  },
  {
   "cell_type": "code",
   "execution_count": null,
   "metadata": {},
   "outputs": [],
   "source": [
    "resdf.loc[(slice(None), 'test_score'), :].mean(axis=1)"
   ]
  },
  {
   "cell_type": "markdown",
   "metadata": {},
   "source": [
    "It seems that the best accuracy is attained when $k = 8$. Let's see how our classifier does on the test set."
   ]
  },
  {
   "cell_type": "code",
   "execution_count": null,
   "metadata": {},
   "outputs": [],
   "source": [
    "pred3 = KNeighborsClassifier(n_neighbors=8)\n",
    "pred3.fit(flower_train, species_train)\n",
    "species_test_predict = pred3.predict(flower_test)\n",
    "print(classification_report(species_test, species_test_predict))"
   ]
  },
  {
   "cell_type": "markdown",
   "metadata": {},
   "source": [
    "Our KNN classifier does well predicting the setosa species, and the worst behavior is for the virginica species.\n",
    "\n",
    "Considering the graphic below, where species correctly predicted are shown in blue and those incorrectly predicted in red (with shape corresponding to species), we can see this result should be expected; setosa flowers are easily identified while versicolor and virginica would be more difficult to predict."
   ]
  },
  {
   "cell_type": "code",
   "execution_count": null,
   "metadata": {
    "collapsed": true
   },
   "outputs": [],
   "source": [
    "import matplotlib.pyplot as plt\n",
    "%matplotlib inline"
   ]
  },
  {
   "cell_type": "code",
   "execution_count": null,
   "metadata": {},
   "outputs": [],
   "source": [
    "marker_map = {0: 'o', 1: 's', 2: '^'}\n",
    "var1, var2 = 0, 1    # Sepal length and sepal width variables\n",
    "for length, width, species in zip(flower_train[:, var1], flower_train[:, var2], species_train[:]):\n",
    "    plt.scatter(x=length, y=width, marker=marker_map[species], c=\"black\")\n",
    "# Plot correct prediction\n",
    "correct = (species_test == species_test_predict)\n",
    "for length, width, species in zip(flower_test[correct, var1], flower_test[correct, var2], species_test[correct]):\n",
    "    plt.scatter(x=length, y=width, marker=marker_map[species], c=\"blue\")\n",
    "for length, width, species in zip(flower_test[np.logical_not(correct), var1],\n",
    "                                  flower_test[np.logical_not(correct), var2],\n",
    "                                  species_test[np.logical_not(correct)]):\n",
    "    plt.scatter(x=length, y=width, marker=marker_map[species], c=\"red\")\n",
    "plt.xlabel(iris_obj.feature_names[var1])\n",
    "plt.ylabel(iris_obj.feature_names[var2])\n",
    "plt.show()"
   ]
  },
  {
   "cell_type": "code",
   "execution_count": null,
   "metadata": {},
   "outputs": [],
   "source": [
    "marker_map = {0: 'o', 1: 's', 2: '^'}\n",
    "var1, var2 = 2, 3    # Petal length and petal width variables\n",
    "for length, width, species in zip(flower_train[:, var1], flower_train[:, var2], species_train[:]):\n",
    "    plt.scatter(x=length, y=width, marker=marker_map[species], c=\"black\")\n",
    "# Plot correct prediction\n",
    "correct = (species_test == species_test_predict)\n",
    "for length, width, species in zip(flower_test[correct, var1], flower_test[correct, var2], species_test[correct]):\n",
    "    plt.scatter(x=length, y=width, marker=marker_map[species], c=\"blue\")\n",
    "for length, width, species in zip(flower_test[np.logical_not(correct), var1],\n",
    "                                  flower_test[np.logical_not(correct), var2],\n",
    "                                  species_test[np.logical_not(correct)]):\n",
    "    plt.scatter(x=length, y=width, marker=marker_map[species], c=\"red\")\n",
    "plt.xlabel(iris_obj.feature_names[var1])\n",
    "plt.ylabel(iris_obj.feature_names[var2])\n",
    "plt.show()"
   ]
  }
 ],
 "metadata": {
  "kernelspec": {
   "display_name": "Python 3",
   "language": "python",
   "name": "python3"
  },
  "language_info": {
   "codemirror_mode": {
    "name": "ipython",
    "version": 3
   },
   "file_extension": ".py",
   "mimetype": "text/x-python",
   "name": "python",
   "nbconvert_exporter": "python",
   "pygments_lexer": "ipython3",
   "version": "3.6.2"
  }
 },
 "nbformat": 4,
 "nbformat_minor": 2
}
