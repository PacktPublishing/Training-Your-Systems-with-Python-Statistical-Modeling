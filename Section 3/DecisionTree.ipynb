{
 "cells": [
  {
   "cell_type": "markdown",
   "metadata": {},
   "source": [
    "# Working with Decision Trees\n",
    "*Curtis Miller*\n",
    "\n",
    "A **decision tree** is a classification algorithm where a series of true/false questions about the data are answered to predict the value of a target variable. This usually is visualized by a tree that one traces to make predictions. A nice feature of this algorithm is that it's a heuristic a human can easily interpret and use. However, decision trees are especially prone to overfitting.\n",
    "\n",
    "Decision tree classifiers can be implemented using the **scikit-learn** class `DecisionTreeClassifier`. The algorithm tries to train a decision tree that quickly makes accurate decisions on training data.\n",
    "\n",
    "The hyperparameter I want to draw particular attention to is the maximum depth a decision tree may have. Trees with high depth may be more prone to overfitting with trees with low depth, while trees with low depth may underfit.\n",
    "\n",
    "We will see how well decision trees predict who survived the *Titanic* disaster. I load in the *Titanic* dataset below."
   ]
  },
  {
   "cell_type": "code",
   "execution_count": null,
   "metadata": {
    "collapsed": true
   },
   "outputs": [],
   "source": [
    "import pandas as pd\n",
    "from pandas import DataFrame\n",
    "from sklearn.model_selection import train_test_split, cross_validate\n",
    "from sklearn.metrics import classification_report"
   ]
  },
  {
   "cell_type": "code",
   "execution_count": null,
   "metadata": {},
   "outputs": [],
   "source": [
    "titanic = pd.read_csv(\"titanic.csv\")\n",
    "titanic.head()"
   ]
  },
  {
   "cell_type": "code",
   "execution_count": null,
   "metadata": {},
   "outputs": [],
   "source": [
    "titanic_train, titanic_test = train_test_split(titanic)\n",
    "titanic_train.head()"
   ]
  },
  {
   "cell_type": "markdown",
   "metadata": {},
   "source": [
    "## Fitting a Decision Tree\n",
    "\n",
    "We will fit a decision tree without specifying a maximum depth. We will also visualize the tree. (I grabbed the code for visualizing the tree from a [blog post by \"Russel\"](https://medium.com/@rnbrown/creating-and-visualizing-decision-trees-with-python-f8e8fa394176).)"
   ]
  },
  {
   "cell_type": "code",
   "execution_count": null,
   "metadata": {
    "collapsed": true
   },
   "outputs": [],
   "source": [
    "from sklearn.tree import DecisionTreeClassifier\n",
    "from sklearn.externals.six import StringIO  \n",
    "from IPython.display import Image  \n",
    "from sklearn.tree import export_graphviz\n",
    "import pydotplus"
   ]
  },
  {
   "cell_type": "code",
   "execution_count": null,
   "metadata": {},
   "outputs": [],
   "source": [
    "tree1 = DecisionTreeClassifier()\n",
    "\n",
    "tree1 = tree1.fit(X=titanic_train.replace({'Sex': {'male': 0, 'female': 1}}    # Replace strings with numbers\n",
    "                                         ).drop([\"Survived\", \"Name\"], axis=1),\n",
    "                  y=titanic_train.Survived)\n",
    "\n",
    "# Example prediction\n",
    "tree1.predict([[2, 0, 26, 0, 0, 30]])    # A male in second class age 26 with no spouse or child aboard who paid $30 fare"
   ]
  },
  {
   "cell_type": "code",
   "execution_count": null,
   "metadata": {},
   "outputs": [],
   "source": [
    "pred1 = tree1.predict(titanic_train.replace({'Sex': {'male': 0, 'female': 1}}\n",
    "                                           ).drop([\"Survived\", \"Name\"], axis=1))\n",
    "print(classification_report(titanic_train.Survived, pred1))"
   ]
  },
  {
   "cell_type": "markdown",
   "metadata": {},
   "source": [
    "We can see that on the training data the algorithm is highly accurate, but there's a good chance the model overfit the data.\n",
    "\n",
    "We can visualize the resulting tree like so. (You will need to install [Graphviz](http://www.graphviz.org/), an open source software package for visualizing graphs, including decision trees.)"
   ]
  },
  {
   "cell_type": "code",
   "execution_count": null,
   "metadata": {},
   "outputs": [],
   "source": [
    "# From here: https://medium.com/@rnbrown/creating-and-visualizing-decision-trees-with-python-f8e8fa394176\n",
    "dot_data = StringIO()\n",
    "\n",
    "export_graphviz(tree1,    # Function for exporting a visualization of the tree\n",
    "                out_file=dot_data,\n",
    "                # Data controlling the display of the graph\n",
    "                filled=True, rounded=True,\n",
    "                special_characters=True,\n",
    "                feature_names=[\"Pclass\", \"Sex\", \"Age\", \"Siblings/Spouses Aboard\", \"Parents/Children Aboard\",\n",
    "                               \"Fare\"],    # Use the name of the features\n",
    "                proportion=True)    # Show proportions for labels\n",
    "\n",
    "# Display graph in Jupyter notebook\n",
    "graph1 = pydotplus.graph_from_dot_data(dot_data.getvalue())  \n",
    "Image(graph1.create_png())"
   ]
  },
  {
   "cell_type": "markdown",
   "metadata": {},
   "source": [
    "A graph this complex is probably overfitting. In fact, let's peek to see how this would do on the test data."
   ]
  },
  {
   "cell_type": "code",
   "execution_count": null,
   "metadata": {},
   "outputs": [],
   "source": [
    "pred2 = tree1.predict(titanic_test.replace({'Sex': {'male': 0, 'female': 1}}\n",
    "                                          ).drop([\"Survived\", \"Name\"], axis=1))\n",
    "print(classification_report(titanic_test.Survived, pred2))"
   ]
  },
  {
   "cell_type": "markdown",
   "metadata": {},
   "source": [
    "Performance dropped significantly. This is likely no better than the \"predict most frequent label\" algorithm.\n",
    "\n",
    "## Restricting Tree Depth\n",
    "\n",
    "We can control overfitting by restricting the depth of the tree. For example, let's see a tree that does not go deeper than three levels."
   ]
  },
  {
   "cell_type": "code",
   "execution_count": null,
   "metadata": {},
   "outputs": [],
   "source": [
    "tree2 = DecisionTreeClassifier(max_depth=3)\n",
    "\n",
    "tree2 = tree2.fit(X=titanic_train.replace({'Sex': {'male': 0, 'female': 1}}    # Replace strings with numbers\n",
    "                                         ).drop([\"Survived\", \"Name\"], axis=1),\n",
    "                  y=titanic_train.Survived)\n",
    "\n",
    "dot_data = StringIO()\n",
    "\n",
    "export_graphviz(tree2,    # Function for exporting a visualization of the tree\n",
    "                out_file=dot_data,\n",
    "                # Data controlling the display of the graph\n",
    "                filled=True, rounded=True,\n",
    "                special_characters=True,\n",
    "                feature_names=[\"Pclass\", \"Sex\", \"Age\", \"Siblings/Spouses Aboard\", \"Parents/Children Aboard\",\n",
    "                               \"Fare\"],\n",
    "                proportion=True)\n",
    "\n",
    "# Display graph in Jupyter notebook\n",
    "graph2 = pydotplus.graph_from_dot_data(dot_data.getvalue())  \n",
    "Image(graph2.create_png())"
   ]
  },
  {
   "cell_type": "markdown",
   "metadata": {},
   "source": [
    "Now let's use cross-validation to decide the appropriate tree depth."
   ]
  },
  {
   "cell_type": "code",
   "execution_count": null,
   "metadata": {},
   "outputs": [],
   "source": [
    "m_candidate = [2, 3, 4, 5, 6, 7, 8, 9, 10]    # Candidate depths\n",
    "res = dict()\n",
    "\n",
    "for m in m_candidate:\n",
    "    pred3 = DecisionTreeClassifier(max_depth=m)\n",
    "    res[m] = cross_validate(pred3,\n",
    "                            X=titanic_train.replace({'Sex': {'male': 0, 'female': 1}}    # Replace strings with numbers\n",
    "                                         ).drop([\"Survived\", \"Name\"], axis=1),\n",
    "                            y=titanic_train.Survived,\n",
    "                            cv=10,\n",
    "                            return_train_score=False,\n",
    "                            scoring='accuracy')\n",
    "\n",
    "resdf = DataFrame({(i, j): res[i][j]\n",
    "                             for i in res.keys()\n",
    "                             for j in res[i].keys()}).T\n",
    "\n",
    "resdf.loc[(slice(None), 'test_score'), :]"
   ]
  },
  {
   "cell_type": "code",
   "execution_count": null,
   "metadata": {},
   "outputs": [],
   "source": [
    "resdf.loc[(slice(None), 'test_score'), :].mean(axis=1)"
   ]
  },
  {
   "cell_type": "markdown",
   "metadata": {},
   "source": [
    "Maximum predictive accuracy occurs when the maximum depth is 5. Let's see the final result."
   ]
  },
  {
   "cell_type": "code",
   "execution_count": null,
   "metadata": {
    "scrolled": false
   },
   "outputs": [],
   "source": [
    "tree4 = DecisionTreeClassifier(max_depth=4)\n",
    "\n",
    "tree4 = tree4.fit(X=titanic_train.replace({'Sex': {'male': 0, 'female': 1}}    # Replace strings with numbers\n",
    "                                         ).drop([\"Survived\", \"Name\"], axis=1),\n",
    "                  y=titanic_train.Survived)\n",
    "\n",
    "dot_data = StringIO()\n",
    "\n",
    "export_graphviz(tree4,    # Function for exporting a visualization of the tree\n",
    "                out_file=dot_data,\n",
    "                # Data controlling the display of the graph\n",
    "                filled=True, rounded=True,\n",
    "                special_characters=True,\n",
    "                feature_names=[\"Pclass\", \"Sex\", \"Age\", \"Siblings/Spouses Aboard\", \"Parents/Children Aboard\",\n",
    "                               \"Fare\"],\n",
    "                proportion=True)\n",
    "\n",
    "# Display graph in Jupyter notebook\n",
    "graph3 = pydotplus.graph_from_dot_data(dot_data.getvalue())  \n",
    "Image(graph3.create_png())"
   ]
  },
  {
   "cell_type": "code",
   "execution_count": null,
   "metadata": {
    "collapsed": true
   },
   "outputs": [],
   "source": [
    "survived_test_predict = tree4.predict(X=titanic_test.replace(\n",
    "    {'Sex': {'male': 0, 'female': 1}}\n",
    ").drop([\"Survived\", \"Name\"], axis=1))"
   ]
  },
  {
   "cell_type": "code",
   "execution_count": null,
   "metadata": {},
   "outputs": [],
   "source": [
    "print(classification_report(titanic_test.Survived, survived_test_predict))"
   ]
  },
  {
   "cell_type": "markdown",
   "metadata": {},
   "source": [
    "The metrics of the decision tree look good. These are better than when we allowed the tree to have any depth."
   ]
  }
 ],
 "metadata": {
  "kernelspec": {
   "display_name": "Python 3",
   "language": "python",
   "name": "python3"
  },
  "language_info": {
   "codemirror_mode": {
    "name": "ipython",
    "version": 3
   },
   "file_extension": ".py",
   "mimetype": "text/x-python",
   "name": "python",
   "nbconvert_exporter": "python",
   "pygments_lexer": "ipython3",
   "version": "3.6.2"
  }
 },
 "nbformat": 4,
 "nbformat_minor": 2
}
