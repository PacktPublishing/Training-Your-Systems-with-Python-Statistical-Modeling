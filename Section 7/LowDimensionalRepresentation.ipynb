{
 "cells": [
  {
   "cell_type": "markdown",
   "metadata": {},
   "source": [
    "# Low-Dimensional Representation\n",
    "*Curtis Miller*\n",
    "\n",
    "Given a distance matrix, can we recover the positions of the original data in Euclidean space? In fact, we can find points in Euclidean space that has a distance matrix very similar to the original, and the difference between the two can be made smaller by increasing the dimensionality of the representing space. This technique is known as **multi-dimensional scaling (MDS)**.\n",
    "\n",
    "This implies that given a distance matrix we can generate a feature space to \"explain\" the data in the distance matrix. Such representations are *not* unique; rotating the dataset won't change the distances, so any rotation accomplishes the same task. But it's a start.\n",
    "\n",
    "One use of this is representing data from a high-dimensional space in a low-dimensional one. For example, the iris dataset has four features; plotting every pair of features would lead to six plots. But using this technique we can create a visualization that approximates the distance between points from the original dataset, and thus can capture the essence of the relationship between points.\n",
    "\n",
    "Additionally, data that never started with a Euclidean representation and for which only distances were computed, such as our headlines dataset, can be given a representation in Euclidean space. This can be used for visualization as well.\n",
    "\n",
    "I demonstrate MDS for both the iris dataset and the headlines dataset.\n",
    "\n",
    "## MDS for the Iris Dataset"
   ]
  },
  {
   "cell_type": "code",
   "execution_count": null,
   "metadata": {
    "collapsed": true
   },
   "outputs": [],
   "source": [
    "from sklearn.datasets import load_iris\n",
    "from sklearn.manifold import MDS\n",
    "import matplotlib.pyplot as plt\n",
    "%matplotlib inline"
   ]
  },
  {
   "cell_type": "code",
   "execution_count": null,
   "metadata": {},
   "outputs": [],
   "source": [
    "iris_obj = load_iris()\n",
    "iris_data = iris_obj.data\n",
    "species = iris_obj.target\n",
    "\n",
    "plt.scatter(iris_data[:, 0], iris_data[:, 1], c=species, cmap=plt.cm.brg)\n",
    "plt.xlabel(\"Sepal Length\")\n",
    "plt.ylabel(\"Sepal Width\")\n",
    "plt.show()"
   ]
  },
  {
   "cell_type": "code",
   "execution_count": null,
   "metadata": {},
   "outputs": [],
   "source": [
    "plt.scatter(iris_data[:, 2], iris_data[:, 3], c=species, cmap=plt.cm.brg)\n",
    "plt.xlabel(\"Petal Length\")\n",
    "plt.ylabel(\"Petal Width\")\n",
    "plt.show()"
   ]
  },
  {
   "cell_type": "code",
   "execution_count": null,
   "metadata": {},
   "outputs": [],
   "source": [
    "iris_mds = MDS(n_components=2, dissimilarity=\"euclidean\")\n",
    "iris_2d = iris_mds.fit_transform(iris_data)\n",
    "iris_2d[:5, :]"
   ]
  },
  {
   "cell_type": "code",
   "execution_count": null,
   "metadata": {},
   "outputs": [],
   "source": [
    "plt.scatter(iris_2d[:, 0], iris_2d[:, 1], c=species, cmap=plt.cm.brg)\n",
    "plt.show()"
   ]
  },
  {
   "cell_type": "markdown",
   "metadata": {},
   "source": [
    "As we observed in other videos, the setosa species is very different from the versicolor or virginica species; the latter two species, while different, are more difficult to differentiate.\n",
    "\n",
    "## Headlines Dataset\n",
    "\n",
    "Below I compute the Jaccard similarity of the data in the headlines dataset. Remember that we work with dissimilarities with MDS, which is easily obtained once we have Jaccard similarities. (Simply subtract the Jaccard similarity from 1 to get the Jaccard distance.)"
   ]
  },
  {
   "cell_type": "code",
   "execution_count": null,
   "metadata": {
    "collapsed": true
   },
   "outputs": [],
   "source": [
    "import pandas as pd\n",
    "from nltk import ngrams\n",
    "import numpy as np"
   ]
  },
  {
   "cell_type": "code",
   "execution_count": null,
   "metadata": {
    "collapsed": true
   },
   "outputs": [],
   "source": [
    "headlines = pd.read_csv(\"HNHeadlines.txt\", header=None, index_col=0).iloc[:, 0]\n",
    "headline_sets = [set(''.join(u) for u in ngrams(h.lower(), 3)) for h in headlines]\n",
    "sims = np.zeros((len(headlines), len(headlines)))    # Will contain the affinity matrix\n",
    "for i in range(len(headlines)):\n",
    "    for j in range(i, len(headlines)):\n",
    "        h1, h2 = headline_sets[i], headline_sets[j]\n",
    "        js = len(h1.intersection(h2))/len(h1.union(h2))    # Compute the Jaccard similarity for the two documents\n",
    "        sims[i,j] = sims[j,i] = js    # Store the Jaccard similarity in the appropriate entries of the matrix"
   ]
  },
  {
   "cell_type": "code",
   "execution_count": null,
   "metadata": {},
   "outputs": [],
   "source": [
    "headline_mds = MDS(n_components=2, dissimilarity=\"precomputed\")\n",
    "headlines_coords = headline_mds.fit_transform(1 - sims)\n",
    "headlines_coords[:5, :]"
   ]
  },
  {
   "cell_type": "code",
   "execution_count": null,
   "metadata": {},
   "outputs": [],
   "source": [
    "plt.scatter(x=headlines_coords[:, 0], y=headlines_coords[:, 1])\n",
    "plt.show()"
   ]
  },
  {
   "cell_type": "markdown",
   "metadata": {},
   "source": [
    "My takeaway from this image is that our representation of the headlines leads to no headline looking similar, thus they are spread out and roughly equidistant. Using sets of 3-grams and Jaccard distance between them to represent distances leads to no clusters. This could partly explain our struggles to cluster them effectively. We should consider different representations of the headlines for clustering."
   ]
  }
 ],
 "metadata": {
  "kernelspec": {
   "display_name": "Python 3",
   "language": "python",
   "name": "python3"
  },
  "language_info": {
   "codemirror_mode": {
    "name": "ipython",
    "version": 3
   },
   "file_extension": ".py",
   "mimetype": "text/x-python",
   "name": "python",
   "nbconvert_exporter": "python",
   "pygments_lexer": "ipython3",
   "version": "3.6.2"
  }
 },
 "nbformat": 4,
 "nbformat_minor": 2
}
