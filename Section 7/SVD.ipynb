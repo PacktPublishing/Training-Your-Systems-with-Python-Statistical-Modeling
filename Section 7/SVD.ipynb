{
 "cells": [
  {
   "cell_type": "markdown",
   "metadata": {},
   "source": [
    "# Singular Value Decomposition\n",
    "*Curtis Miller*\n",
    "\n",
    "**Singular value decomposition (SVD)** is a matrix decomposition technique from linear algebra. A matrix $X$ is expressed as the product of two unitary matrices $U$ and $V$ (with unitary meaning that $U U^T = V^T V = I$) and a matrix $S$ whose entries are zero except for the diagonal entries, which could be positive numbers from largest (in the top left corner) to smallest (possibly 0), so $X = USV^T$. The diagonal entries of $S$ are the **singular values** of $X$.\n",
    "\n",
    "The SVD contains all information about a matrix and encodes it in a simple manner. It is an important decomposition technique. PCA, for example, depends on the SVD of the data matrix.\n",
    "\n",
    "$U$ and $V$ are **dense** (meaning that most if not all of their entries are not zero) while $S$ is sparse. We would need to store every column of $U$ and column of $V$ that corresponds to a non-zero singular value. But we can store less information by making some of the singular values of $S$ zero, and keeping only some of the columns of $U$ and $V$. After doing this we can use the information we kept to approximate the original matrix $X$ with arbitrary precision. (The more singular values kept, the better the approximation.)\n",
    "\n",
    "If $X$ is an $m \\times n$ matrix, then $U$ is $m \\times m$, $V$ is $n \\times n$, and $S$ is $m \\times n$. If $X$ has $r$ non-zero singular values, the **compact SVD** finds $X = \\tilde{U} \\tilde{S} \\tilde{V}^T$, where $\\tilde{U}$ is a $m \\times r$ matrix, $\\tilde{S}$ is a $r \\times r$ matrix, and $\\tilde{V}$ is a $n \\times r$ matrix. The compact SVD will perfectly reconstruct $X$ and by reducing the number of non-zero singular values (that is, reduce $r$), we reduce the amount of information we need to store.\n",
    "\n",
    "In this notebook I demonstrate how SVD can be used for image compression. We will be compressing this image:"
   ]
  },
  {
   "cell_type": "code",
   "execution_count": null,
   "metadata": {
    "collapsed": true
   },
   "outputs": [],
   "source": [
    "from PIL import Image\n",
    "import numpy as np\n",
    "import numpy.linalg as ln\n",
    "import matplotlib.pyplot as plt\n",
    "%matplotlib inline"
   ]
  },
  {
   "cell_type": "code",
   "execution_count": null,
   "metadata": {},
   "outputs": [],
   "source": [
    "frog = np.array(Image.open(\"frog.png\").convert(\"RGB\")) / 255    # The last division to force numbers to be in [0,1]\n",
    "plt.imshow(frog)"
   ]
  },
  {
   "cell_type": "code",
   "execution_count": null,
   "metadata": {},
   "outputs": [],
   "source": [
    "plt.imshow(frog[:, :, 0], cmap=\"Reds\")"
   ]
  },
  {
   "cell_type": "code",
   "execution_count": null,
   "metadata": {},
   "outputs": [],
   "source": [
    "plt.imshow(frog[:, :, 1], cmap=\"Greens\")"
   ]
  },
  {
   "cell_type": "code",
   "execution_count": null,
   "metadata": {},
   "outputs": [],
   "source": [
    "plt.imshow(frog[:, :, 2], cmap=\"Blues\")"
   ]
  },
  {
   "cell_type": "markdown",
   "metadata": {},
   "source": [
    "What if we wanted an SVD decomposition of the upper 5x7 corner of red values?"
   ]
  },
  {
   "cell_type": "code",
   "execution_count": null,
   "metadata": {},
   "outputs": [],
   "source": [
    "plt.imshow(frog[:5, :7, 0], cmap='Reds')"
   ]
  },
  {
   "cell_type": "code",
   "execution_count": null,
   "metadata": {},
   "outputs": [],
   "source": [
    "m, n = 5, 7\n",
    "U, S, V = ln.svd(frog[:m, :n, 0])    # The full SVD\n",
    "U"
   ]
  },
  {
   "cell_type": "code",
   "execution_count": null,
   "metadata": {},
   "outputs": [],
   "source": [
    "S    # The singular values"
   ]
  },
  {
   "cell_type": "code",
   "execution_count": null,
   "metadata": {},
   "outputs": [],
   "source": [
    "V.T    # ln.svd returns the transpose of V as described above"
   ]
  },
  {
   "cell_type": "markdown",
   "metadata": {},
   "source": [
    "All singular values are non-zero. We can form a compact SVD of this matrix to represent it in a smaller space, though. We may, for example, use only the first two singular values."
   ]
  },
  {
   "cell_type": "code",
   "execution_count": null,
   "metadata": {},
   "outputs": [],
   "source": [
    "r = 2\n",
    "nU, nS, nV = U[:m, :r], S[:r], V[:r, :n]\n",
    "nU"
   ]
  },
  {
   "cell_type": "code",
   "execution_count": null,
   "metadata": {},
   "outputs": [],
   "source": [
    "nS"
   ]
  },
  {
   "cell_type": "code",
   "execution_count": null,
   "metadata": {},
   "outputs": [],
   "source": [
    "nV.T"
   ]
  },
  {
   "cell_type": "code",
   "execution_count": null,
   "metadata": {},
   "outputs": [],
   "source": [
    "nX = nU.dot(np.diag(nS)).dot(nV)\n",
    "nX"
   ]
  },
  {
   "cell_type": "code",
   "execution_count": null,
   "metadata": {},
   "outputs": [],
   "source": [
    "nX.shape"
   ]
  },
  {
   "cell_type": "code",
   "execution_count": null,
   "metadata": {},
   "outputs": [],
   "source": [
    "plt.imshow(nX, cmap=\"Reds\")"
   ]
  },
  {
   "cell_type": "markdown",
   "metadata": {},
   "source": [
    "The following function finds the matrices of the compact SVD of a matrix for approximation."
   ]
  },
  {
   "cell_type": "code",
   "execution_count": null,
   "metadata": {
    "collapsed": true
   },
   "outputs": [],
   "source": [
    "def approx_compact_svd(a, r):\n",
    "    \"\"\"Finds U S V for an approximation of matrix a with rank r\"\"\"\n",
    "    m, n = a.shape\n",
    "    U, S, V = ln.svd(a)\n",
    "    return (U[:m, :r], S[:r], V.T[:n, :r])"
   ]
  },
  {
   "cell_type": "markdown",
   "metadata": {},
   "source": [
    "This function uses the above function for reconstructing an image based on approximations of this nature."
   ]
  },
  {
   "cell_type": "code",
   "execution_count": null,
   "metadata": {
    "collapsed": true
   },
   "outputs": [],
   "source": [
    "def svd_compress_image(img, ranks):\n",
    "    \"\"\"SVD compression of img; ranks should be a tuple of three values for how many singular values for\n",
    "       R, G, B channels, respectively\"\"\"\n",
    "    channels = [img[:, :, 0], img[:, :, 1], img[:, :, 2]]\n",
    "    new_channels = list()\n",
    "    for a, r in zip(channels, ranks):\n",
    "        U, S, V = approx_compact_svd(a, r)\n",
    "        new_channels.append(U.dot(np.diag(S)).dot(V.T))\n",
    "    return np.array(new_channels).transpose((1, 2, 0))"
   ]
  },
  {
   "cell_type": "code",
   "execution_count": null,
   "metadata": {},
   "outputs": [],
   "source": [
    "newfrog = svd_compress_image(frog, (10, 10, 10))\n",
    "plt.imshow(newfrog)"
   ]
  },
  {
   "cell_type": "code",
   "execution_count": null,
   "metadata": {},
   "outputs": [],
   "source": [
    "newfrog2 = svd_compress_image(frog, (200, 200, 200))    # Will 200 values be better?\n",
    "plt.imshow(newfrog2)"
   ]
  },
  {
   "cell_type": "markdown",
   "metadata": {},
   "source": [
    "The compression quality depends on how many singular values are kept. Choosing this number wisely is important."
   ]
  }
 ],
 "metadata": {
  "kernelspec": {
   "display_name": "Python 3",
   "language": "python",
   "name": "python3"
  },
  "language_info": {
   "codemirror_mode": {
    "name": "ipython",
    "version": 3
   },
   "file_extension": ".py",
   "mimetype": "text/x-python",
   "name": "python",
   "nbconvert_exporter": "python",
   "pygments_lexer": "ipython3",
   "version": "3.6.2"
  }
 },
 "nbformat": 4,
 "nbformat_minor": 2
}
