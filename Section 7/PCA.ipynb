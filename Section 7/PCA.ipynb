{
 "cells": [
  {
   "cell_type": "markdown",
   "metadata": {},
   "source": [
    "# Principle Component Analysis\n",
    "*Curtis Miller*\n",
    "\n",
    "**Principle component analysis (PCA)** is a dimensionality reduction technique that finds a feature space such that all features are uncorrelated with each other. Furthermore, the first feature is a linear combination of the observed features that maximizes the variance without \"magnifying\" those features effects. The second feature maximizes variance when the effect of the first feature has been removed from the dataset, and so on, so each feature \"explains\" a diminishing amount of variation in the original dataset. Dimensionality is thus reduced by choosing a smaller number of features found by PCA that account for most of the variation in the original dataset.\n",
    "\n",
    "## Performing PCA\n",
    "\n",
    "In this notebook I demonstrate dimensionality reduction with PCA on the features of the Boston housing price dataset. First I load in the dataset."
   ]
  },
  {
   "cell_type": "code",
   "execution_count": null,
   "metadata": {
    "collapsed": true
   },
   "outputs": [],
   "source": [
    "from sklearn.datasets import load_boston\n",
    "from sklearn.decomposition import PCA    # The object responsible for performing PCA\n",
    "import matplotlib.pyplot as plt\n",
    "%matplotlib inline"
   ]
  },
  {
   "cell_type": "code",
   "execution_count": null,
   "metadata": {},
   "outputs": [],
   "source": [
    "boston_obj = load_boston()\n",
    "data = boston_obj.data\n",
    "data[:5, :]"
   ]
  },
  {
   "cell_type": "code",
   "execution_count": null,
   "metadata": {},
   "outputs": [],
   "source": [
    "pca = PCA(n_components=2)    # A two-dimensional representation of the dataset\n",
    "new_data = pca.fit_transform(data)\n",
    "new_data[:5]"
   ]
  },
  {
   "cell_type": "code",
   "execution_count": null,
   "metadata": {},
   "outputs": [],
   "source": [
    "plt.scatter(x=new_data[:, 0], y=new_data[:, 1])\n",
    "plt.xlabel(\"Principle Component 1\")\n",
    "plt.ylabel(\"Principle Component 2\")\n",
    "plt.show()"
   ]
  },
  {
   "cell_type": "markdown",
   "metadata": {},
   "source": [
    "## Choosing the Number of Components\n",
    "\n",
    "The elbow method (seen with $k$-means clustering) is often used to decide how many principle components to use with PCA. One can always \"explain\" more of the variance in the original dataset by increasing the number of principle components kept but this would defeat the purpose of dimensionality reduction. Thus we look for an \"elbow\" in the plot of explained variance to suggest a number of princiiple components to use.\n",
    "\n",
    "The function below can construct such a plot."
   ]
  },
  {
   "cell_type": "code",
   "execution_count": null,
   "metadata": {
    "collapsed": true
   },
   "outputs": [],
   "source": [
    "import numpy as np"
   ]
  },
  {
   "cell_type": "code",
   "execution_count": null,
   "metadata": {
    "collapsed": true
   },
   "outputs": [],
   "source": [
    "def explained_var_plot(data, max_components):\n",
    "    \"\"\"Plots the amount of variance explained by different number of components kept\"\"\"\n",
    "    explained_var = PCA(n_components=max_components).fit(data).explained_variance_ratio_\n",
    "    plt.plot(np.arange(max_components) + 1, 1 - np.cumsum(explained_var), marker='o')"
   ]
  },
  {
   "cell_type": "code",
   "execution_count": null,
   "metadata": {},
   "outputs": [],
   "source": [
    "explained_var_plot(data, 10)"
   ]
  },
  {
   "cell_type": "markdown",
   "metadata": {},
   "source": [
    "This plot would suggest that a three-dimensional representation of the data should explain a reasonable amount of the variance in the dataset. (We found a two-dimensional representation.)"
   ]
  }
 ],
 "metadata": {
  "kernelspec": {
   "display_name": "Python 3",
   "language": "python",
   "name": "python3"
  },
  "language_info": {
   "codemirror_mode": {
    "name": "ipython",
    "version": 3
   },
   "file_extension": ".py",
   "mimetype": "text/x-python",
   "name": "python",
   "nbconvert_exporter": "python",
   "pygments_lexer": "ipython3",
   "version": "3.6.2"
  }
 },
 "nbformat": 4,
 "nbformat_minor": 2
}
