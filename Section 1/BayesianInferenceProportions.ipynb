{
 "cells": [
  {
   "cell_type": "markdown",
   "metadata": {},
   "source": [
    "# Bayesian Posterior Analysis: Proportions\n",
    "*Curtis Miller*\n",
    "\n",
    "In previous videos we saw classical methods for answering common questions about proportions. Here I demonstrate Bayesian methods for inference regarding proportions. In the process I introduce further ideas from Bayesian statistics.\n",
    "\n",
    "## Conjugate Priors\n",
    "\n",
    "Bayesian analysis is based on the following relation:\n",
    "\n",
    "$$p(\\theta | D) \\propto p(D | \\theta) p(\\theta)$$\n",
    "\n",
    "$p(\\theta)$ is the **prior** distribution of $\\theta$, and $p(\\theta | D)$ is the **posterior** distribution of $\\theta$ after observing $D$. $p(D | \\theta)$ is the **likelihood** of the evidence $D$. A **conjugate prior** is a prior distribution such that for the likelihood function $p(D | \\theta)$, the posterior belongs to the same family of distributions as the prior.\n",
    "\n",
    "[See this Wikipedia article on prior distribution](https://en.wikipedia.org/wiki/Conjugate_prior), which also includes a list of common conjugate priors.\n",
    "\n",
    "For data that takes values of either 0 or 1, the [Beta distribution](https://en.wikipedia.org/wiki/Beta_distribution) serves as a conjugate prior. Refer to this distribution as $B(\\alpha, \\beta)$, and we say that the proportion of successes $p$ follows $\\theta \\sim B(\\alpha, \\beta)$. $\\alpha - 1$ can be interpreted as imaginary prior \"successes\", and $\\beta - 1$ can be interpreted as imaginary prior \"failures\". If $\\alpha = \\beta = 1$, we interpret this as there being no prior \"successes\" or \"failures\" and every probability of \"success\" $\\theta$ is equally likely."
   ]
  },
  {
   "cell_type": "code",
   "execution_count": null,
   "metadata": {
    "collapsed": true
   },
   "outputs": [],
   "source": [
    "from scipy.stats import beta\n",
    "import numpy as np\n",
    "import matplotlib.pyplot as plt\n",
    "%matplotlib inline"
   ]
  },
  {
   "cell_type": "code",
   "execution_count": null,
   "metadata": {
    "collapsed": false
   },
   "outputs": [],
   "source": [
    "x = np.linspace(0, 1, num=1000)\n",
    "plt.plot(x, beta.pdf(x, a=1, b=1))    # Plot of uninformative prior: the uniform distribution\n",
    "plt.show()"
   ]
  },
  {
   "cell_type": "code",
   "execution_count": null,
   "metadata": {
    "collapsed": false
   },
   "outputs": [],
   "source": [
    "plt.plot(x, beta.pdf(x, a=3, b=3))    # Not an uninformative prior: has 2 \"successes\" and 2 \"failures\"\n",
    "plt.show()"
   ]
  },
  {
   "cell_type": "markdown",
   "metadata": {},
   "source": [
    "Suppose that in a sample of size $N$ there are $M$ \"successes\". Then when the prior distribution of $\\theta$ is $B(\\alpha, \\beta)$, the posterior distribution of $\\theta$ is $B(\\alpha + M, \\beta + N - M)$.\n",
    "\n",
    "Let's reconsider an earlier example. Let's suppose that on a certain website, out of 1126 visitors on a given day, 310 clicked on an ad purchased by a sponsor. We will *not* use an uninformative prior; instead, our prior distribution will be $B(3, 3)$, which is interpreted as having 2 imaginary prior successes and 2 imaginary prior failure ($\\theta$ is biased towards $\\theta = \\frac{1}{2}$, or a 50/50 chance of clicking the ad for each visitor). Then the posterior distribution of $\\theta$ is $B(3 + 310, 3 + 1126 - 310) = B(313, 819)$. The prior and posterior are plotted below together to show their relationship."
   ]
  },
  {
   "cell_type": "code",
   "execution_count": null,
   "metadata": {
    "collapsed": false
   },
   "outputs": [],
   "source": [
    "plt.plot(x, beta.pdf(x, a=3, b=3), 'b-')    # Prior\n",
    "plt.plot(x, beta.pdf(x, a=313, b=819), 'r-')    # Posterior\n",
    "plt.show()"
   ]
  },
  {
   "cell_type": "markdown",
   "metadata": {},
   "source": [
    "## Credible Intervals\n",
    "\n",
    "The Bayesian analogue to the **confidence interval** is the **credible interval**. The true value of $\\theta$ has probability $C$ of lying within the $100 \\times C$% credible interval. So there is a 95% chance that the true $\\theta$ lies in the 95% credible interval.\n",
    "\n",
    "I have written a function for computing a credible interval when using the conjugate prior."
   ]
  },
  {
   "cell_type": "code",
   "execution_count": null,
   "metadata": {
    "collapsed": true
   },
   "outputs": [],
   "source": [
    "def bernoulli_beta_credible_interval(M, N, a=1, b=1, C=.95):\n",
    "    \"\"\"Computes a 100C% credible interval for Bernoulli (0/1) data\n",
    "    \n",
    "    args:\n",
    "        M: int; number of \"successes\"\n",
    "        N: int; total sample size\n",
    "        a: float; first argument of the prior Beta distribution\n",
    "        b: float; second argument of the prior Beta distribution\n",
    "        C: float; the credibility (chance of containing theta) of the interval\n",
    "    \n",
    "    return:\n",
    "        tuple; first number is the lower bound, second the upper bound, of the credible interval\n",
    "    \"\"\"\n",
    "    \n",
    "    # Error checking\n",
    "    if type(M) is not int or type(N) is not int:\n",
    "        raise TypeError(\"M, N must both be integers\")\n",
    "    elif M < 0 or N < M:\n",
    "        raise ValueError(\"M, N must be non-negative, and N >= M\")\n",
    "    elif a <= 0 or b <= 0:\n",
    "        raise ValueError(\"Cannot have negative prior parameters!\")\n",
    "    elif type(C) is not float:\n",
    "        raise TypeError(\"C must be numeric\")\n",
    "    elif C < 0 or C > 1:\n",
    "        raise ValueError(\"C must be interpretable as a probability\")\n",
    "    \n",
    "    post = (a + M, b + N - M)\n",
    "    alpha = (1 - C)/2\n",
    "    return (beta.ppf(alpha, post[0], post[1]), beta.ppf(1 - alpha, post[0], post[1]))"
   ]
  },
  {
   "cell_type": "code",
   "execution_count": null,
   "metadata": {
    "collapsed": false
   },
   "outputs": [],
   "source": [
    "bernoulli_beta_credible_interval(310, 1126)"
   ]
  },
  {
   "cell_type": "code",
   "execution_count": null,
   "metadata": {
    "collapsed": false
   },
   "outputs": [],
   "source": [
    "bernoulli_beta_credible_interval(310, 1126, a=3, b=3)"
   ]
  },
  {
   "cell_type": "code",
   "execution_count": null,
   "metadata": {
    "collapsed": false
   },
   "outputs": [],
   "source": [
    "bernoulli_beta_credible_interval(310, 1126, a=3, b=3, C=.99)    # Like with confidence intervals,\n",
    "                                                                # larger C -> larger interval"
   ]
  },
  {
   "cell_type": "markdown",
   "metadata": {},
   "source": [
    "## Hypothesis Testing\n",
    "\n",
    "Bayesian hypothesis testing is merely computing the probability that $\\theta$ lies within the interval of interest.\n",
    "\n",
    "For instance, suppose that the administrator of the website you're testing claims that at least 30% of visitors to the site click the ad. What is the probability that the administrator is correct?\n",
    "\n",
    "We use the **cumulative distribution function (CDF)** of the posterior distribution to answer this question. The CDF is defined as $F(x) = P(X \\leq x)$. Notice $P(X > x) = 1 - F(x)$. Here, we want $P(\\theta > .3 | D)$."
   ]
  },
  {
   "cell_type": "code",
   "execution_count": null,
   "metadata": {
    "collapsed": false
   },
   "outputs": [],
   "source": [
    "1 - beta.cdf(.3,    # Coincides with the administrator's claim\n",
    "             a=3 + 310,    # Posterior a\n",
    "             b=3 + 1126 - 310)    # Posterior b"
   ]
  },
  {
   "cell_type": "markdown",
   "metadata": {},
   "source": [
    "There is only a small probability that the administrator is correct. (Note, though, that this cannot be interpreted the same way as a p-value!)"
   ]
  },
  {
   "cell_type": "markdown",
   "metadata": {},
   "source": [
    "## Comparing Two Proportions\n",
    "\n",
    "The website is trying two different ad formats, format A and format B. Users are randomly assigned to one format or the other, and the website tracks how many viewers click the ad in the different formats. The website wants to know whether format B leads to more clicks than format A.\n",
    "\n",
    "Here we want the *joint* posterior distribution for $\\theta_A$ and $\\theta_B$, but this is not easy to compute and getting the probability that $\\theta_A < \\theta_B$ is also hard. So we do the following:\n",
    "\n",
    "1. Assume that $\\theta_A$ and $\\theta_B$ are independent.\n",
    "2. Collect data and compute the posterior distributions for $\\theta_A$ and $\\theta_B$ separately.\n",
    "3. Simulate $\\theta_A$ and $\\theta_B$, randomly sampling from their posterior distributions.\n",
    "4. Compute the proportion of times that $\\theta_A < \\theta_B$.\n",
    "\n",
    "516 visitors saw format A, and 108 of them clicked the ad. 510 visitors saw format B, and 144 of them clicked the ad. If the prior distribution for both $\\theta_A$ and $\\theta_B$ is $B(3, 3)$, then the posterior distribution for $\\theta_A$ is then $B(111, 411)$, and for $\\theta_B$, $B(147, 369)$. They're visualized below."
   ]
  },
  {
   "cell_type": "code",
   "execution_count": null,
   "metadata": {
    "collapsed": false
   },
   "outputs": [],
   "source": [
    "plt.plot(x, beta.pdf(x, 111, 411), 'b-')    # Posterior distribution for theta_A\n",
    "plt.plot(x, beta.pdf(x, 147, 369), 'r-')    # Posterior distribution for theta_B\n",
    "plt.show()"
   ]
  },
  {
   "cell_type": "markdown",
   "metadata": {},
   "source": [
    "Now we engage in the simulation to see how often $\\theta_A < \\theta_B$."
   ]
  },
  {
   "cell_type": "code",
   "execution_count": null,
   "metadata": {
    "collapsed": false
   },
   "outputs": [],
   "source": [
    "# Demonstration: A random theta_A\n",
    "beta.rvs(111, 411)"
   ]
  },
  {
   "cell_type": "code",
   "execution_count": null,
   "metadata": {
    "collapsed": false
   },
   "outputs": [],
   "source": [
    "# A random theta_B\n",
    "beta.rvs(147, 369)"
   ]
  },
  {
   "cell_type": "code",
   "execution_count": null,
   "metadata": {
    "collapsed": true
   },
   "outputs": [],
   "source": [
    "N = 1000    # Number of simulations\n",
    "random_A = beta.rvs(111, 411, size=N)\n",
    "random_B = beta.rvs(147, 369, size=N)"
   ]
  },
  {
   "cell_type": "code",
   "execution_count": null,
   "metadata": {
    "collapsed": false
   },
   "outputs": [],
   "source": [
    "random_A[0:10]"
   ]
  },
  {
   "cell_type": "code",
   "execution_count": null,
   "metadata": {
    "collapsed": false
   },
   "outputs": [],
   "source": [
    "random_B[0:10]"
   ]
  },
  {
   "cell_type": "code",
   "execution_count": null,
   "metadata": {
    "collapsed": false
   },
   "outputs": [],
   "source": [
    "random_A[0:10] < random_B[0:10]"
   ]
  },
  {
   "cell_type": "code",
   "execution_count": null,
   "metadata": {
    "collapsed": false
   },
   "outputs": [],
   "source": [
    "trial = random_A < random_B\n",
    "trial.sum()    # Number of times theta_A < theta_B"
   ]
  },
  {
   "cell_type": "code",
   "execution_count": null,
   "metadata": {
    "collapsed": false
   },
   "outputs": [],
   "source": [
    "trial.mean()    # Estimated probability theta_A < theta_B"
   ]
  },
  {
   "cell_type": "markdown",
   "metadata": {},
   "source": [
    "There is a high probability that $\\theta_A < \\theta_B$ according to our simulation."
   ]
  }
 ],
 "metadata": {
  "kernelspec": {
   "display_name": "Python 3",
   "language": "python",
   "name": "python3"
  },
  "language_info": {
   "codemirror_mode": {
    "name": "ipython",
    "version": 3
   },
   "file_extension": ".py",
   "mimetype": "text/x-python",
   "name": "python",
   "nbconvert_exporter": "python",
   "pygments_lexer": "ipython3",
   "version": "3.6.0"
  }
 },
 "nbformat": 4,
 "nbformat_minor": 2
}
