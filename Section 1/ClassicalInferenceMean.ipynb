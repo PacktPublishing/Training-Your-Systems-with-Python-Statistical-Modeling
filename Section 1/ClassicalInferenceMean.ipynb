{
 "cells": [
  {
   "cell_type": "markdown",
   "metadata": {},
   "source": [
    "# Confidence Intervals and Classical Hypothesis Testing: Mean\n",
    "*Curtis Miller*\n",
    "\n",
    "Now we look at inference regarding the mean of a population. The **mean** is the average value, and in this context refers to the mean of quantitative variables.\n",
    "\n",
    "## Confidence Interval for the Mean\n",
    "\n",
    "You are employed by a company that fabricates chips and other electronic components. The company wants you to investigates the resistors it uses in producing its components. In particular, while the resistors used by the company are labeled with a particular resistance, the company wants to ensure the manufacturer of the resistors produces quality products. Your task is to verify that the labeled resistance agrees with the observed resistance, after subjecting the resistors to testing.\n",
    "\n",
    "You test the resistance (in $\\text{k}\\Omega$) of some resistors labeled $1\\text{k}\\Omega$ and obtain the following dataset (stored in a NumPy array)."
   ]
  },
  {
   "cell_type": "code",
   "execution_count": null,
   "metadata": {
    "collapsed": true
   },
   "outputs": [],
   "source": [
    "import numpy as np"
   ]
  },
  {
   "cell_type": "code",
   "execution_count": null,
   "metadata": {
    "collapsed": false
   },
   "outputs": [],
   "source": [
    "res = np.array([ 0.984,  0.988,  0.984,  0.987,  0.976,  0.997,  0.993,  0.985,\n",
    "                 1.002,  0.987,  1.005,  0.993,  0.987,  0.992,  0.976,  0.998,\n",
    "                 1.011,  0.971,  0.981,  1.008,  0.963,  0.992,  0.995,  0.99 ,\n",
    "                 0.996,  0.99 ,  0.985,  0.997,  0.983,  0.981,  0.988,  0.991,\n",
    "                 0.971,  0.982,  0.979,  1.008,  1.006,  1.006,  1.001,  0.999,\n",
    "                 0.98 ,  0.996,  0.979,  1.009,  0.99 ,  0.996,  1.001,  0.981,\n",
    "                 0.99 ,  0.987,  0.97 ,  0.992,  0.982,  0.983,  0.974,  0.999,\n",
    "                 0.987,  1.002,  0.971,  0.982,  0.989,  0.985,  1.014,  0.991,\n",
    "                 0.984,  0.992,  1.003,  0.985,  0.987,  0.985,  1.   ,  0.978,\n",
    "                 0.99 ,  0.99 ,  0.985,  0.983,  0.981,  0.993,  0.993,  0.973,\n",
    "                 1.   ,  0.982,  0.987,  0.988,  0.982,  0.978,  0.989,  1.   ,\n",
    "                 0.983,  1.008,  0.997,  0.974,  0.988,  1.002,  0.988,  0.994,\n",
    "                 0.991,  1.   ,  0.976,  0.987,  0.991,  1.010,  0.999,  1.002])\n",
    "res.mean()"
   ]
  },
  {
   "cell_type": "markdown",
   "metadata": {},
   "source": [
    "You now want to construct a confidence interval for the true resistance of the resistors.\n",
    "\n",
    "You believe it's safe to assume that the data follows a Normal distribution; in that case, the confidence interval for the mean resistance is given by:\n",
    "\n",
    "$$\\bar{x} \\pm t_{n - 1, 1 - \\frac{\\alpha}{2}} \\frac{s}{\\sqrt{n}}$$\n",
    "\n",
    "where $\\bar{x}$ is the sample mean, $s$ is the sample standard deviation, $\\alpha$ is one minus the confidence level, and $t_{\\nu, p}$ is the $p$th percentile of the [$t$ distribution](https://en.wikipedia.org/wiki/Student%27s_t-distribution) with $\\nu$ degrees of freedom.\n",
    "\n",
    "We can use functions from **statsmodels** to compute this interval.\n",
    "\n",
    "*(WARNING: The following function/code is NOT stable!)*"
   ]
  },
  {
   "cell_type": "code",
   "execution_count": null,
   "metadata": {
    "collapsed": true
   },
   "outputs": [],
   "source": [
    "from statsmodels.stats.weightstats import _tconfint_generic    # Computes confidence intervals"
   ]
  },
  {
   "cell_type": "code",
   "execution_count": null,
   "metadata": {
    "collapsed": false
   },
   "outputs": [],
   "source": [
    "_tconfint_generic(mean=res.mean(),    # The mean of the data\n",
    "                  std_mean=res.std()/np.sqrt(len(res)),    # The standard deviation of the MEAN (s/sqrt(n))\n",
    "                  dof=len(res) - 1,    # The degrees of freedom (n - 1)\n",
    "                  alpha=(1 - 0.95),    # 1 minus the confidence level\n",
    "                  alternative=\"two-sided\")"
   ]
  },
  {
   "cell_type": "markdown",
   "metadata": {},
   "source": [
    "Notice that 1 is *not* in the confidence interval. This leads you to suspect that the resistors the supplier produces are not being properly manufactured."
   ]
  },
  {
   "cell_type": "markdown",
   "metadata": {},
   "source": [
    "## Hypothesis Testing for the Mean\n",
    "\n",
    "The confidence interval you computed suggests that the resistors' resistance level does not agree with the label. You now want to perform a hypothesis test to confirm your suspicion. In particular, you believe that the resistors have less resistance than specified.\n",
    "\n",
    "You will be testing the hypotheses:\n",
    "\n",
    "$$H_0: \\mu = 1\\text{k}\\Omega$$\n",
    "$$H_A: \\mu < 1\\text{k}\\Omega$$\n",
    "\n",
    "Since you are assuming that the resistance is Normally distributed, you use the test statistic:\n",
    "\n",
    "$$t = \\frac{\\bar{x} - 1}{\\frac{s}{\\sqrt{n}}}$$\n",
    "\n",
    "to determine if you should reject $H_0$ or not.\n",
    "\n",
    "The function `_tstat_generic()` can perform such a test and yield a $p$-value.\n",
    "\n",
    "*(WARNING: The following function/code is NOT stable!)*"
   ]
  },
  {
   "cell_type": "code",
   "execution_count": null,
   "metadata": {
    "collapsed": false
   },
   "outputs": [],
   "source": [
    "from statsmodels.stats.weightstats import _tstat_generic"
   ]
  },
  {
   "cell_type": "code",
   "execution_count": null,
   "metadata": {
    "collapsed": false
   },
   "outputs": [],
   "source": [
    "_tstat_generic(value1=res.mean(),    # The mean of the dataset\n",
    "               value2=0,\n",
    "               diff=1,    # The mean under the null hypothesis\n",
    "               std_diff=res.std()/np.sqrt(len(res)),    # The standard deviation of the mean\n",
    "               dof=len(res) - 1,    # The degrees of freedom\n",
    "               alternative=\"smaller\")    # The direction of the alternative (the true mean is SMALLER than 1)"
   ]
  },
  {
   "cell_type": "markdown",
   "metadata": {},
   "source": [
    "The p-value is miniscule! Clearly the resistance of the resistors the manufacturer makes is less than $1\\text{k}\\Omega$. Your company is being fleeced by this manufacturer!"
   ]
  },
  {
   "cell_type": "markdown",
   "metadata": {},
   "source": [
    "## Two-Sample Test for Common Mean\n",
    "\n",
    "In light of your study the manager of your division has decided to stop outsourcing resistor production. The company wants to start manufacturing its own resistors, and has started experimenting with different processes before engaging in full-scale production.\n",
    "\n",
    "Right now there are two manufacturing processes, and you are tasked with determining whether the mean resistance of supposedly-$1\\text{k}\\Omega$ resistors is the same between the two processes. That is, given process A and process B, you wish to test\n",
    "\n",
    "$$H_0: \\mu_A = \\mu_B$$\n",
    "$$H_A: \\mu_A \\neq \\mu_B$$\n",
    "\n",
    "While you feel safe assuming that the resistance level of resistors is Normally distributed regardless of the manufacturing process employed, you don't assume that the standard deviation is common to all processes. In that case, you use the test statistic\n",
    "\n",
    "$$t = \\frac{\\bar{x}_A - \\bar{x}_B}{\\sqrt{\\frac{s_A^2}{n_A} + \\frac{s_B^2}{n_B}}}$$\n",
    "\n",
    "After some tests you obtain the following datasets for the resistance of resistors produced by the different processes."
   ]
  },
  {
   "cell_type": "code",
   "execution_count": null,
   "metadata": {
    "collapsed": false
   },
   "outputs": [],
   "source": [
    "res_A = np.array([ 1.002,  1.001,  1.   ,  0.999,  0.998,  1.   ,  1.001,  0.999,\n",
    "                   1.002,  0.998,  1.   ,  0.998,  1.001,  1.001,  1.002,  0.997,\n",
    "                   1.001,  1.   ,  1.001,  0.999,  0.998,  0.998,  1.002,  1.002,\n",
    "                   0.996,  0.998,  0.997,  1.001,  1.002,  0.997,  1.   ,  1.   ,\n",
    "                   0.998,  0.997])\n",
    "\n",
    "res_B = np.array([ 0.995,  1.022,  0.993,  1.014,  0.998,  0.99 ,  0.998,  0.998,\n",
    "                   0.99 ,  1.003,  1.016,  0.992,  1.   ,  1.002,  1.003,  1.005,\n",
    "                   0.979,  1.012,  0.978,  1.01 ,  1.001,  1.026,  1.011,  1.   ,\n",
    "                   0.98 ,  0.993,  1.016,  0.991,  0.986,  0.987,  1.012,  0.996,\n",
    "                   1.013,  1.001,  0.984,  1.011,  1.01 ,  1.   ,  1.001])"
   ]
  },
  {
   "cell_type": "markdown",
   "metadata": {},
   "source": [
    "This test is performed by `ttest_ind()` from **statsmodels**."
   ]
  },
  {
   "cell_type": "code",
   "execution_count": null,
   "metadata": {
    "collapsed": true
   },
   "outputs": [],
   "source": [
    "from statsmodels.stats.weightstats import ttest_ind"
   ]
  },
  {
   "cell_type": "code",
   "execution_count": null,
   "metadata": {
    "collapsed": false
   },
   "outputs": [],
   "source": [
    "ttest_ind(res_A, res_B,    # The datasets\n",
    "          alternative=\"two-sided\",\n",
    "          usevar=\"unequal\")"
   ]
  },
  {
   "cell_type": "markdown",
   "metadata": {},
   "source": [
    "In the above output, the middle number is the p-value. In this case the p-value is approximately 0.659, which is large. We should not reject the null hypothesis. The two processes appear to produce resistors with the same mean level of resistance."
   ]
  },
  {
   "cell_type": "markdown",
   "metadata": {},
   "source": [
    "## One-Way ANOVA\n",
    "\n",
    "Before you were able to report your findings you received word that three more manufacturing processes were tested and you now have resistors for five manufacturing processes. Your supervisor wants to know if all of the resistors produced by these processes have the same mean resistance or if some processes produce resistors with a mean resistance different from the rest.\n",
    "\n",
    "In other words, for resistors produced by processes A, B, C, D, or E, you need to test\n",
    "\n",
    "$$H_0: \\mu_A = \\mu_B = \\mu_C = \\mu_D = \\mu_E$$\n",
    "$$H_A: H_0 \\text{ is false}$$\n",
    "\n",
    "The test for deciding which of these two hypotheses is true is known as ANOVA. ANOVA has assumptions. In addition to the assumption that the data was drawn from Normal distributions, you must assume that the data was drawn from distributions with the same standard deviation. You would need to check this, but you are in a hurry.\n",
    "\n",
    "You now have the following datasets in addition to the ones you started with."
   ]
  },
  {
   "cell_type": "code",
   "execution_count": null,
   "metadata": {
    "collapsed": true
   },
   "outputs": [],
   "source": [
    "res_C = np.array([ 1.005,  1.012,  1.003,  0.993,  0.998,  1.002,  1.002,  0.996,\n",
    "                   0.999,  1.004,  1.006,  1.007,  0.991,  1.011,  1.   ,  1.   ,\n",
    "                   1.005,  1.   ,  0.995,  0.995,  1.002,  1.002,  0.991,  1.003,\n",
    "                   0.997,  0.994,  0.995,  1.   ,  1.001,  1.005,  0.992,  0.999,\n",
    "                   0.999,  1.002,  1.   ,  0.994,  1.001,  1.007,  1.003,  0.993])\n",
    "\n",
    "res_D = np.array([ 1.006,  0.996,  0.986,  1.004,  1.004,  1.   ,  1.   ,  0.993,\n",
    "                   0.991,  0.992,  0.989,  0.996,  1.   ,  0.996,  1.001,  0.989,\n",
    "                   1.   ,  1.004,  0.997,  0.99 ,  0.998,  0.994,  0.991,  0.995,\n",
    "                   1.002,  0.997,  0.998,  0.99 ,  0.996,  0.994,  0.988,  0.996,\n",
    "                   0.998])\n",
    "\n",
    "res_E = np.array([ 1.009,  0.999,  0.995,  1.008,  0.998,  1.001,  1.001,  1.001,\n",
    "                   0.993,  0.992,  1.007,  1.005,  0.997,  1.   ,  1.   ,  1.   ,\n",
    "                   0.996,  1.005,  0.997,  1.013,  1.002,  1.006,  1.004,  1.002,\n",
    "                   1.001,  0.999,  1.001,  1.004,  0.994,  0.999,  0.997,  1.004,\n",
    "                   0.996])"
   ]
  },
  {
   "cell_type": "markdown",
   "metadata": {},
   "source": [
    "The function `f_oneway()` from **scipy.stats** performs the one-way ANOVA test."
   ]
  },
  {
   "cell_type": "code",
   "execution_count": null,
   "metadata": {
    "collapsed": true
   },
   "outputs": [],
   "source": [
    "from scipy.stats import f_oneway"
   ]
  },
  {
   "cell_type": "code",
   "execution_count": null,
   "metadata": {
    "collapsed": false
   },
   "outputs": [],
   "source": [
    "f_oneway(res_A, res_B, res_C, res_D, res_E)"
   ]
  },
  {
   "cell_type": "markdown",
   "metadata": {},
   "source": [
    "The p-value of approximately 0.0347 appears small, so we can reject the null hypothesis that all processes yield resistors with the same level of resistance."
   ]
  }
 ],
 "metadata": {
  "kernelspec": {
   "display_name": "Python 3",
   "language": "python",
   "name": "python3"
  },
  "language_info": {
   "codemirror_mode": {
    "name": "ipython",
    "version": 3
   },
   "file_extension": ".py",
   "mimetype": "text/x-python",
   "name": "python",
   "nbconvert_exporter": "python",
   "pygments_lexer": "ipython3",
   "version": "3.6.0"
  }
 },
 "nbformat": 4,
 "nbformat_minor": 2
}
