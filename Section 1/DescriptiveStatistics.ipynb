{
 "cells": [
  {
   "cell_type": "markdown",
   "metadata": {},
   "source": [
    "# Computing Descriptive Statistics with Pandas\n",
    "*Curtis Miller*\n",
    "\n",
    "Often in data analysis projects we begin with descriptive statistics to get a sense of a dataset's properties. Fortunately it is easy to get these statistics from Pandas `DataFrame`s.\n",
    "\n",
    "I illustrate by computing various descriptive statistics for the classic [iris dataset](https://en.wikipedia.org/wiki/Iris_flower_data_set).\n",
    "\n",
    "## Loading in `iris`\n",
    "\n",
    "The following code loads in the packages we will need and also the `iris` dataset."
   ]
  },
  {
   "cell_type": "code",
   "execution_count": null,
   "metadata": {
    "collapsed": true
   },
   "outputs": [],
   "source": [
    "import pandas as pd\n",
    "from pandas import DataFrame\n",
    "from sklearn.datasets import load_iris    # sklearn.datasets includes common example datasets"
   ]
  },
  {
   "cell_type": "code",
   "execution_count": null,
   "metadata": {
    "collapsed": false
   },
   "outputs": [],
   "source": [
    "iris_obj = load_iris()    # A function to load in the iris dataset\n",
    "iris_obj.data    # Dataset preview"
   ]
  },
  {
   "cell_type": "code",
   "execution_count": null,
   "metadata": {
    "collapsed": false
   },
   "outputs": [],
   "source": [
    "iris_obj.feature_names"
   ]
  },
  {
   "cell_type": "code",
   "execution_count": null,
   "metadata": {
    "collapsed": false
   },
   "outputs": [],
   "source": [
    "iris_obj.target"
   ]
  },
  {
   "cell_type": "code",
   "execution_count": null,
   "metadata": {
    "collapsed": false
   },
   "outputs": [],
   "source": [
    "iris_obj.target_names"
   ]
  },
  {
   "cell_type": "markdown",
   "metadata": {},
   "source": [
    "`load_iris()` loads in an object containing the iris dataset, which I stored in `iris_obj`. I now turn this into a `DataFrame`."
   ]
  },
  {
   "cell_type": "code",
   "execution_count": null,
   "metadata": {
    "collapsed": false
   },
   "outputs": [],
   "source": [
    "iris = DataFrame(iris_obj.data, columns=iris_obj.feature_names,\n",
    "                 index=pd.Index([i for i in range(iris_obj.data.shape[0])])).\\\n",
    "           join(DataFrame(iris_obj.target, columns=pd.Index([\"species\"]), index=pd.Index([i for i in range(iris_obj.target.shape[0])])))\n",
    "iris"
   ]
  },
  {
   "cell_type": "code",
   "execution_count": null,
   "metadata": {
    "collapsed": false
   },
   "outputs": [],
   "source": [
    "iris.species.replace({0: 'setosa', 1: 'versicolor', 2: 'virginica'}, inplace=True)\n",
    "iris"
   ]
  },
  {
   "cell_type": "markdown",
   "metadata": {},
   "source": [
    "For this particular dataset, the grouping by species suggests that descriptive statistics should be done on groups. We create the groups like so."
   ]
  },
  {
   "cell_type": "code",
   "execution_count": null,
   "metadata": {
    "collapsed": false,
    "scrolled": false
   },
   "outputs": [],
   "source": [
    "iris_grps = iris.groupby(\"species\")\n",
    "\n",
    "for name, data in iris_grps:\n",
    "    print(name)\n",
    "    print(\"---------------------\\n\\n\")\n",
    "    print(data.iloc[:, 0:4])\n",
    "    print(\"\\n\\n\\n\")"
   ]
  },
  {
   "cell_type": "markdown",
   "metadata": {},
   "source": [
    "A lot of the methods for getting summary statistics for a `DataFrame` also work for group objects.\n",
    "\n",
    "## Getting the Basics\n",
    "\n",
    "Let's compute some basic statistics.\n",
    "\n",
    "I use $n$ to denote the sample size. This number is the number of rows in the dataset, and can be obtained via `count()`."
   ]
  },
  {
   "cell_type": "code",
   "execution_count": null,
   "metadata": {
    "collapsed": false
   },
   "outputs": [],
   "source": [
    "iris.count()"
   ]
  },
  {
   "cell_type": "markdown",
   "metadata": {},
   "source": [
    "The **sample mean** is the arithmetic mean of the dataset.\n",
    "\n",
    "$$\\bar{x} = \\frac{1}{n} \\sum_{i=1}^n x_i$$"
   ]
  },
  {
   "cell_type": "code",
   "execution_count": null,
   "metadata": {
    "collapsed": false
   },
   "outputs": [],
   "source": [
    "iris.mean()    # Sample mean for every numeric column"
   ]
  },
  {
   "cell_type": "markdown",
   "metadata": {},
   "source": [
    "The **sample median** is the \"middle\" data point, after ordering the dataset. Let $x_{(i)}$ represent ordered data ($x_{(1)}$ is smallest, $x_{(n)}$ largest).\n",
    "\n",
    "$$\\tilde{x} = \\begin{cases}\n",
    "x_{\\left(\\frac{n+1}{2}\\right)} & \\text{ if } n \\text{ is odd} \\\\\n",
    "\\frac{1}{2}\\left(x_{\\left(\\frac{n}{2}\\right)} + x_{\\left(\\frac{n}{2} + 1\\right)}\\right) & \\text{ if } n \\text{ is even} \\\\\n",
    "\\end{cases}$$"
   ]
  },
  {
   "cell_type": "code",
   "execution_count": null,
   "metadata": {
    "collapsed": false
   },
   "outputs": [],
   "source": [
    "iris.median()"
   ]
  },
  {
   "cell_type": "markdown",
   "metadata": {},
   "source": [
    "The **sample variance** is a measure of dispersion, roughly the \"average\" squared distance of a data point from the mean. The **standard deviation** is the square root of the variance and interpreted as the \"average\" distance a data point is from the mean.\n",
    "\n",
    "$$s^2 = \\frac{1}{n - 1} \\sum_{i = 1}^n (x_i - \\bar{x})^2$$\n",
    "$$s = \\sqrt{s^2}$$"
   ]
  },
  {
   "cell_type": "code",
   "execution_count": null,
   "metadata": {
    "collapsed": false
   },
   "outputs": [],
   "source": [
    "iris.var()"
   ]
  },
  {
   "cell_type": "code",
   "execution_count": null,
   "metadata": {
    "collapsed": false
   },
   "outputs": [],
   "source": [
    "iris.std()"
   ]
  },
  {
   "cell_type": "markdown",
   "metadata": {},
   "source": [
    "The **$p$th percentile** is the number in the dataset such that roughly $p$% of the data is less than this number. This number is also referred to as a quantile."
   ]
  },
  {
   "cell_type": "code",
   "execution_count": null,
   "metadata": {
    "collapsed": false
   },
   "outputs": [],
   "source": [
    "iris.quantile(.1)   # The 10th percentile"
   ]
  },
  {
   "cell_type": "code",
   "execution_count": null,
   "metadata": {
    "collapsed": false
   },
   "outputs": [],
   "source": [
    "iris.quantile(.95)    # The 95th percentile"
   ]
  },
  {
   "cell_type": "code",
   "execution_count": null,
   "metadata": {
    "collapsed": false
   },
   "outputs": [],
   "source": [
    "iris.quantile(.75)    # Commonly known as the third quartile"
   ]
  },
  {
   "cell_type": "code",
   "execution_count": null,
   "metadata": {
    "collapsed": false
   },
   "outputs": [],
   "source": [
    "iris.quantile(.25)    # Commonly known as the first quartile"
   ]
  },
  {
   "cell_type": "markdown",
   "metadata": {},
   "source": [
    "If $Q_i$ denotes the $i$th quartile, the **inner-quartile range** (**IQR**) is the difference between the third quartile and the first quartile.\n",
    "\n",
    "$$IQR = Q_3 - Q_1$$"
   ]
  },
  {
   "cell_type": "code",
   "execution_count": null,
   "metadata": {
    "collapsed": false
   },
   "outputs": [],
   "source": [
    "# There is no function for computing the IQR but it is nevertheless easy to obtain\n",
    "iris.quantile(.75) - iris.quantile(.25)"
   ]
  },
  {
   "cell_type": "markdown",
   "metadata": {},
   "source": [
    "Other interesting quantities include the maximum and minimum values."
   ]
  },
  {
   "cell_type": "code",
   "execution_count": null,
   "metadata": {
    "collapsed": false
   },
   "outputs": [],
   "source": [
    "iris.max()"
   ]
  },
  {
   "cell_type": "code",
   "execution_count": null,
   "metadata": {
    "collapsed": false
   },
   "outputs": [],
   "source": [
    "iris.min()"
   ]
  },
  {
   "cell_type": "markdown",
   "metadata": {},
   "source": [
    "Many of these summaries work for grouped data as well."
   ]
  },
  {
   "cell_type": "code",
   "execution_count": null,
   "metadata": {
    "collapsed": false
   },
   "outputs": [],
   "source": [
    "iris_grps.mean()"
   ]
  },
  {
   "cell_type": "code",
   "execution_count": null,
   "metadata": {
    "collapsed": false
   },
   "outputs": [],
   "source": [
    "iris_grps.std()"
   ]
  },
  {
   "cell_type": "code",
   "execution_count": null,
   "metadata": {
    "collapsed": false
   },
   "outputs": [],
   "source": [
    "iris_grps.quantile(.75)"
   ]
  },
  {
   "cell_type": "code",
   "execution_count": null,
   "metadata": {
    "collapsed": false
   },
   "outputs": [],
   "source": [
    "iris_grps.quantile(.75) - iris_grps.quantile(.25)"
   ]
  },
  {
   "cell_type": "markdown",
   "metadata": {},
   "source": [
    "## Other Useful Methods\n",
    "\n",
    "The method `describe()` gets a number of useful summaries for a dataset."
   ]
  },
  {
   "cell_type": "code",
   "execution_count": null,
   "metadata": {
    "collapsed": false
   },
   "outputs": [],
   "source": [
    "iris.describe()"
   ]
  },
  {
   "cell_type": "code",
   "execution_count": null,
   "metadata": {
    "collapsed": false
   },
   "outputs": [],
   "source": [
    "# This also works well for grouped data.\n",
    "iris_grps.describe()"
   ]
  },
  {
   "cell_type": "markdown",
   "metadata": {},
   "source": [
    "If we want custom numerical summaries, we can write functions to compute them for Pandas `Series` then apply them to the columns of a `DataFrame`.\n",
    "\n",
    "I demonstrate by writing a function that computes the **range**, which is the difference between the maximum and minimum of a dataset.\n",
    "\n",
    "$$\\text{range} = x_{(n)} - x_{(1)}$$"
   ]
  },
  {
   "cell_type": "code",
   "execution_count": null,
   "metadata": {
    "collapsed": false
   },
   "outputs": [],
   "source": [
    "# Compute the range of a dataset\n",
    "def range_stat(s):\n",
    "    return s.max() - s.min()\n",
    "\n",
    "iris.iloc[:, 0:4].apply(range_stat)"
   ]
  },
  {
   "cell_type": "code",
   "execution_count": null,
   "metadata": {
    "collapsed": false
   },
   "outputs": [],
   "source": [
    "# Use aggregate() for groups\n",
    "iris_grps.aggregate(range_stat)"
   ]
  }
 ],
 "metadata": {
  "kernelspec": {
   "display_name": "Python 3",
   "language": "python",
   "name": "python3"
  },
  "language_info": {
   "codemirror_mode": {
    "name": "ipython",
    "version": 3
   },
   "file_extension": ".py",
   "mimetype": "text/x-python",
   "name": "python",
   "nbconvert_exporter": "python",
   "pygments_lexer": "ipython3",
   "version": "3.6.0"
  }
 },
 "nbformat": 4,
 "nbformat_minor": 2
}
