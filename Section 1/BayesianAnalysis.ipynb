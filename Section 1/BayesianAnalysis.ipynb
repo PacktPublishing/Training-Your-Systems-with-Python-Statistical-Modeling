{
 "cells": [
  {
   "cell_type": "markdown",
   "metadata": {},
   "source": [
    "# Diving Into Bayesian Analysis\n",
    "*Curtis Miller*\n",
    "\n",
    "In this notebook I proceed with a simple example to introduce the idea of Bayesian statistical analysis.\n",
    "\n",
    "## Solving a Hit-and-Run\n",
    "\n",
    "In a city, 95% of cabs are owned by the Yellow Cab Company, and 5% are owned by Green Cab, Inc. Recently a cab was involved in a hit-and-run accident, injuring a pedestrian. A witness saw the accident and claimed that the cab that hit the pedestrian was a Green cab. Tests by investigators reveal that, under similar circumstances, this witness is correctly able to identify a Green cab 90% of the time, and correctly identify a Yellow cab 85% of the time; this means she incorrectly calls a Yellow cab a Green cab 15% of the time and incorrectly calls a Green cab a Yellow cab 10% of the time.\n",
    "\n",
    "Should investigators pursue Green Cab, Inc.?\n",
    "\n",
    "In general, **Bayes' Theorem** states\n",
    "\n",
    "$$P(H|D) = \\frac{P(D|H)P(H)}{P(D|H)P(H) + P(D|\\text{ not }H) P(\\text{not }H)} = \\frac{P(D|H)P(H)}{P(D)}$$\n",
    "\n",
    "Bayesian statisticians often emphasize the importance of the numerator by saying $P(H|D)$ is proportional to $P(D|H) P(H)$, or\n",
    "\n",
    "$$P(H|D) \\propto P(D|H) P(H)$$\n",
    "\n",
    "The denominator is needed only to make the right-hand side a proper probability.\n",
    "\n",
    "Let $H$ represent the event that a Green cab hit the pedestrian, and $D$ the event that the witness claims to see a Green cab. Let's compute the probability that, given the witness's testimony, the pedestrian was actually hit by a Green cab."
   ]
  },
  {
   "cell_type": "code",
   "execution_count": null,
   "metadata": {
    "collapsed": false
   },
   "outputs": [],
   "source": [
    "d_h = 0.9     # P(D|H): The probability the witness claims to see a Green cab when a Green cab hit the pedestrian\n",
    "h = 0.05      # P(H): The probability the cab was Green, based on the proportion of Green cabs on the streets\n",
    "d_nh = 0.1    # P(D|not H): The probability the witness claims to see a Green cab when a Yellow cab hit the pedestrian\n",
    "nh = 0.95     # P(not H): The probability the cab was Yellow\n",
    "\n",
    "h"
   ]
  },
  {
   "cell_type": "markdown",
   "metadata": {},
   "source": [
    "At the outset the probaility the cab was Green is low given how few Green cabs there are on the streets. How does the witness's testimony change this?"
   ]
  },
  {
   "cell_type": "code",
   "execution_count": null,
   "metadata": {
    "collapsed": false
   },
   "outputs": [],
   "source": [
    "h_d = (d_h * h)/(d_h * h + d_nh * nh)    # Bayes theorem\n",
    "h_d"
   ]
  },
  {
   "cell_type": "markdown",
   "metadata": {},
   "source": [
    "While the cab was a Green cab has increase, it's still less than 50%; the Yellow Cab Company is more likely to employ the driver involved in the hit-and-run! (The witness is not accurate enough to overcome how few Green cabs there are on the streets.)"
   ]
  }
 ],
 "metadata": {
  "kernelspec": {
   "display_name": "Python 3",
   "language": "python",
   "name": "python3"
  },
  "language_info": {
   "codemirror_mode": {
    "name": "ipython",
    "version": 3
   },
   "file_extension": ".py",
   "mimetype": "text/x-python",
   "name": "python",
   "nbconvert_exporter": "python",
   "pygments_lexer": "ipython3",
   "version": "3.6.0"
  }
 },
 "nbformat": 4,
 "nbformat_minor": 2
}
