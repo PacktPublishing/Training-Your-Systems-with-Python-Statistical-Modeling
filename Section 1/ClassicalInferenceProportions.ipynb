{
 "cells": [
  {
   "cell_type": "markdown",
   "metadata": {},
   "source": [
    "# Confidence Intervals and Classical Hypothesis Testing: Proportions\n",
    "*Curtis Miller*\n",
    "\n",
    "The first major topic is reaching conclusions about proportions.\n",
    "\n",
    "In a sample of size $N$ there are $M$ \"successes\" (say, people who clicked on an advertisement) and $N - M$ \"failures\" (everyone else, who did not click on an advertisement). The **sample proportion** is then:\n",
    "\n",
    "$$\\hat{p} = \\frac{M}{N}$$\n",
    "\n",
    "In fact, if your data $x_i$ is 1 for every \"success\" and 0 for every \"failure\", then we can say:\n",
    "\n",
    "$$\\hat{p} = \\frac{1}{N} \\sum_{i = 1}^{N} x_i = \\bar{x}$$\n",
    "\n",
    "That is, the sample proportion is the sample mean of the dataset.\n",
    "\n",
    "Let's say we want to know what proportion of visitors (including future visitors, not yet seen) will click on our ad based on previous data. How can we go from a sample proportion to a statement about the **population proportion**?\n",
    "\n",
    "## Confidence Interval for Population Proportion\n",
    "\n",
    "We can constuct a **confidence interval**, an interval we believe will contain the true population proportion of visitors who click our ad. We have an interval with a lower and upper bound and we believe that the true population proportion is within this interval with some level of confidence. For a 95% confidence interval, we are \"95% confident\" the true proportion is in the interval (in the sense that such intervals contain the population proportion 95% of the time).\n",
    "\n",
    "The classical way to construct this interval is to use the interval:\n",
    "\n",
    "$$\\hat{p} \\pm z_{1 - \\frac{\\alpha}{2}} \\sqrt{\\hat{p}(1 - \\hat{p}} \\equiv \\left(\\hat{p} - z_{1 - \\frac{\\alpha}{2}} \\sqrt{\\hat{p}(1 - \\hat{p}}, \\hat{p} + z_{1 - \\frac{\\alpha}{2}} \\sqrt{\\hat{p}(1 - \\hat{p}}\\right)$$\n",
    "\n",
    "where $z_{p}$ is the $100\\times p$th percentile of the [Normal distribution](https://en.wikipedia.org/wiki/Normal_distribution).\n",
    "\n",
    "In Python, the **statsmodels** package can be used for statistical computations such as computing a confidence interval.\n",
    "\n",
    "Let's suppose that on a certain website, out of 1126 visitors on a given day, 310 clicked on an ad purchased by a sponsor. Let's construct a confidence interval for the *population* proportion of visitors who click the ad."
   ]
  },
  {
   "cell_type": "code",
   "execution_count": null,
   "metadata": {
    "collapsed": true
   },
   "outputs": [],
   "source": [
    "import statsmodels.api as sm"
   ]
  },
  {
   "cell_type": "code",
   "execution_count": null,
   "metadata": {
    "collapsed": false
   },
   "outputs": [],
   "source": [
    "310 / 1126    # Sample proportion"
   ]
  },
  {
   "cell_type": "code",
   "execution_count": null,
   "metadata": {
    "collapsed": false
   },
   "outputs": [],
   "source": [
    "from statsmodels.stats.proportion import proportion_confint    # Function for computing confidence intervals\n",
    "proportion_confint(count=310,    # Number of \"successes\"\n",
    "                   nobs=1126,    # Number of trials\n",
    "                   alpha=(1 - 0.95))    # Alpha, which is 1 minus the confidence level"
   ]
  },
  {
   "cell_type": "markdown",
   "metadata": {},
   "source": [
    "If we wanted a 99% confidence interval, we would have a wider interval, but more confidence that the true proportion lies in this interval."
   ]
  },
  {
   "cell_type": "code",
   "execution_count": null,
   "metadata": {
    "collapsed": false
   },
   "outputs": [],
   "source": [
    "proportion_confint(310, 1126, alpha=(1 - 0.99))"
   ]
  },
  {
   "cell_type": "markdown",
   "metadata": {},
   "source": [
    "## Testing the Proportion\n",
    "\n",
    "The website administrator claims that 30% of visitors to the website click the advertisement. Is this true? The sample proportion does not match the administrator's claim, but this does not discredit the claim.\n",
    "\n",
    "We will do a **statistical test** to test the administrator's claim. We test the **null hypothesis**:\n",
    "i\n",
    "$$H_0: p = 0.3$$\n",
    "\n",
    "(where $p$ denotes the true proportion of visitors who click the ad on the site) against the **alternative hypothesis**:\n",
    "\n",
    "$$H_A: p \\neq 0.3$$\n",
    "\n",
    "How do we do this? We first compute a **test statistic**.\n",
    "\n",
    "$$z = \\frac{\\hat{p} - p_0}{\\sqrt{p_0(1 - p_0)}} = \\frac{\\hat{p} - 0.3}{\\sqrt{0.3(1 - 0.3)}}$$\n",
    "\n",
    "We then compute a $p$-value, which can be interpreted as the probability of observing a test statistic at least as \"extreme\" as the test statistic actually observed. If the $p$-value is small, we will reject $H_0$ and conclude that the administrator's claim is false; the proportion of visitors who click the ad is not $0.3$. If the $p$-value is not small, then we do not reject $H_0$; the evidence from our data does not contradict his claim.\n",
    "\n",
    "What counts as a \"small\" $p$-value? Here, we will decide that if a $p$-value is less than 0.05, then the $p$-value is \"small\" and we reject the null hypothesis. If we see a $p$-value greater than 0.05, we will not reject the null hypothesis. (We could have chosen a number other than 0.05; maybe 0.01 if we wanted to err on the side of not contradicting the administrator.)\n",
    "\n",
    "I now conduct the test and compute the $p$-value."
   ]
  },
  {
   "cell_type": "code",
   "execution_count": null,
   "metadata": {
    "collapsed": false
   },
   "outputs": [],
   "source": [
    "from statsmodels.stats.proportion import proportions_ztest    # Performs the test just described\n",
    "\n",
    "res = proportions_ztest(count=310,\n",
    "                        nobs=1126,\n",
    "                        value=0.3,    # The hypothesized value of population proportion p\n",
    "                        alternative='two-sided')    # Tests the \"not equal to\" alternative hypothesis\n",
    "\n",
    "res    # A tuple; the first entry is the value of the test statistic, and the second is the p-value"
   ]
  },
  {
   "cell_type": "markdown",
   "metadata": {},
   "source": [
    "Here, we got a test statistic of $z \\approx -1.85$ and a $p$-value of $\\approx 0.0636 > 0.05$. We conclude there is not enough statistical evidence to disagree with the website administrator."
   ]
  },
  {
   "cell_type": "markdown",
   "metadata": {},
   "source": [
    "## Testing for Common Proportions\n",
    "\n",
    "The website decides to conduct an experiment. One day, the website shows its visitors different versions of an advertisement created by a sponsor. Users are randomly assigned to Version A and Version B. The website tracks how often Version A was clicked and how often Version B was clicked.\n",
    "\n",
    "On this day, 516 visitors saw Version A of the ad, and 510 saw Version B. Of those who saw Version A, 108 clicked the ad, while 144 clicked Version B when shown.\n",
    "\n",
    "Which ad generates more clicks?\n",
    "\n",
    "Here we test the following hypotheses:\n",
    "\n",
    "$$H_0: p_A = p_B$$\n",
    "$$H_A: p_A \\neq p_B$$\n",
    "\n",
    "The test statistic for this test is:\n",
    "\n",
    "$$z = \\frac{\\hat{p}_A - \\hat{p}_B}{\\sqrt{\\frac{\\hat{p}(1 - \\hat{p})}{n_A + n_B}}}$$\n",
    "\n",
    "where $\\hat{p}_A$ and $\\hat{p}_B$ are the sample proportions for group A and group B and $\\hat{p}$ is the proportion from the pooled sample (grouping A and B together).\n",
    "\n",
    "`proportions_ztest()` can perform this test."
   ]
  },
  {
   "cell_type": "code",
   "execution_count": null,
   "metadata": {
    "collapsed": true
   },
   "outputs": [],
   "source": [
    "import numpy as np"
   ]
  },
  {
   "cell_type": "code",
   "execution_count": null,
   "metadata": {
    "collapsed": false
   },
   "outputs": [],
   "source": [
    "np.array([108, 144])"
   ]
  },
  {
   "cell_type": "code",
   "execution_count": null,
   "metadata": {
    "collapsed": false
   },
   "outputs": [],
   "source": [
    "proportions_ztest(count=np.array([108, 144]),\n",
    "                  nobs=np.array([516, 510]),\n",
    "                  alternative='two-sided')"
   ]
  },
  {
   "cell_type": "markdown",
   "metadata": {},
   "source": [
    "With a p-value of about 0.0066, which is small, we reject the null hypothesis; it appears that the two ads do not have the same proportion of clicks."
   ]
  },
  {
   "cell_type": "markdown",
   "metadata": {},
   "source": [
    "## $\\chi^2$ Test for Goodness of Fit\n",
    "\n",
    "The **$\\chi^2$ test for goodness of fit** generalizes the test for a population proportion. Whereas we have worked before with variables that either do or do not have some characteristic (such as: a visitor either did or did not click an ad), this test checks whether a variable that could fall in some category has some distribution.\n",
    "\n",
    "Suppose a website offers five colors of shoes: blue, black, brown, white, and red. We want to know whether each color is equally likely or not. That is, if $p_{\\text{color}}$ is the proportion of shoe buyers who bought a particular color, we wish to test:\n",
    "\n",
    "$$H_0: p_{\\text{blue}} = p_{\\text{black}} = p_{\\text{brown}} = p_{\\text{white}} = p_{\\text{red}}$$\n",
    "$$H_A: H_0 \\text{ is false}$$\n",
    "\n",
    "Suppose that out of 464 buyers of shoes, 98 bought blue shoes, 117 bought black shoes, 80 bought brown shoes, 73 bought white shoes, and 96 bought red shoes. If each shoe is equally likely to be bought, then $p_{\\text{color}} = 0.2$ for every color. We would expect to see $0.2 \\times 464 = 92.8$ pairs of each color sold if this were true.\n",
    "\n",
    "We can now use the function `chisquare()` from **scipy.stats** to perform the test."
   ]
  },
  {
   "cell_type": "code",
   "execution_count": null,
   "metadata": {
    "collapsed": true
   },
   "outputs": [],
   "source": [
    "from scipy.stats import chisquare"
   ]
  },
  {
   "cell_type": "code",
   "execution_count": null,
   "metadata": {
    "collapsed": false
   },
   "outputs": [],
   "source": [
    "chisquare(f_obs=[98, 117, 80, 73, 96],    # Observed frequency for each color\n",
    "          f_exp=[464 * .2, 464 * .2, 464 * .2, 464 * .2, 464 * .2])    # Expected frequency under the null hypothesis"
   ]
  },
  {
   "cell_type": "markdown",
   "metadata": {},
   "source": [
    "The p-value is approximately 0.0128. This is small, and suggests that the null hypothesis is false. It's likely that some shoe colors are more popular than others (black is a prime suspect)."
   ]
  }
 ],
 "metadata": {
  "kernelspec": {
   "display_name": "Python 3",
   "language": "python",
   "name": "python3"
  },
  "language_info": {
   "codemirror_mode": {
    "name": "ipython",
    "version": 3
   },
   "file_extension": ".py",
   "mimetype": "text/x-python",
   "name": "python",
   "nbconvert_exporter": "python",
   "pygments_lexer": "ipython3",
   "version": "3.6.0"
  }
 },
 "nbformat": 4,
 "nbformat_minor": 2
}
